{
 "cells": [
  {
   "cell_type": "markdown",
   "source": [],
   "metadata": {
    "collapsed": false,
    "pycharm": {
     "name": "#%% md\n"
    }
   }
  },
  {
   "cell_type": "markdown",
   "source": [],
   "metadata": {
    "collapsed": false,
    "pycharm": {
     "name": "#%% md\n"
    }
   }
  },
  {
   "cell_type": "code",
   "execution_count": 1,
   "outputs": [],
   "source": [
    "import pandas as pd"
   ],
   "metadata": {
    "collapsed": false,
    "pycharm": {
     "name": "#%%\n"
    }
   }
  },
  {
   "cell_type": "markdown",
   "source": [],
   "metadata": {
    "collapsed": false,
    "pycharm": {
     "name": "#%% md\n"
    }
   }
  },
  {
   "cell_type": "code",
   "execution_count": 2,
   "outputs": [],
   "source": [
    "weather = pd.read_csv('data/clean/weather.csv')\n",
    "covid = pd.read_csv('data/clean/covid.csv')\n",
    "taxi_facts = pd.read_csv('data/clean/df_taxi_facts.csv')\n",
    "taxi_zone_lookup = pd.read_csv('data/clean/taxi_zone_lookup_enhanced.csv')\n",
    "calendar = pd.read_csv('data/clean/calendar.csv')"
   ],
   "metadata": {
    "collapsed": false,
    "pycharm": {
     "name": "#%%\n"
    }
   }
  },
  {
   "cell_type": "markdown",
   "source": [
    "## combine data as cube like object\n",
    "\n",
    "multi_index: [year, month, day] # dimension 1\n",
    "multi_column_index: [Borough, locationID] # dimension 2\n",
    "value for each cube: [pickups, dropoffs, trip_distance]"
   ],
   "metadata": {
    "collapsed": false,
    "pycharm": {
     "name": "#%% md\n"
    }
   }
  },
  {
   "cell_type": "code",
   "execution_count": 222,
   "outputs": [],
   "source": [
    "feature = 'dropoffs'\n",
    "cube1 = taxi_facts.copy()\n",
    "#cube1 = cube1.merge(calendar[['dateID', 'year', 'month', 'day']]) # .set_index(['year', 'month', 'day', 'locationID']).sort_values(by=['dateID', 'taxiTypeID', 'locationID'])"
   ],
   "metadata": {
    "collapsed": false,
    "pycharm": {
     "name": "#%%\n"
    }
   }
  },
  {
   "cell_type": "code",
   "execution_count": 223,
   "outputs": [
    {
     "data": {
      "text/plain": "        Unnamed: 0  dateID  locationID  pickups  dropoffs  trip_distance  \\\n0                0  737791          74      121        50       5.177274   \n1                1  737791          75       76        31       5.177274   \n2                2  737791          41       66        38       5.177274   \n3                3  737791          42       59        51       5.177274   \n4                4  737791          95       41        12       5.177274   \n...            ...     ...         ...      ...       ...            ...   \n569930      569930  738155          52        0         2       6.449878   \n569931      569931  738155         190        0         2       6.449878   \n569932      569932  738155          96        0         1       6.449878   \n569933      569933  738155         253        0         1       6.449878   \n569934      569934  738155          12        0         1       6.449878   \n\n       taxiTypeID    WID  CID  \n0           green  34122  307  \n1           green  34122  307  \n2           green  34122  307  \n3           green  34122  307  \n4           green  34122  307  \n...           ...    ...  ...  \n569930        fhv  35873  671  \n569931        fhv  35873  671  \n569932        fhv  35873  671  \n569933        fhv  35873  671  \n569934        fhv  35873  671  \n\n[569935 rows x 9 columns]",
      "text/html": "<div>\n<style scoped>\n    .dataframe tbody tr th:only-of-type {\n        vertical-align: middle;\n    }\n\n    .dataframe tbody tr th {\n        vertical-align: top;\n    }\n\n    .dataframe thead th {\n        text-align: right;\n    }\n</style>\n<table border=\"1\" class=\"dataframe\">\n  <thead>\n    <tr style=\"text-align: right;\">\n      <th></th>\n      <th>Unnamed: 0</th>\n      <th>dateID</th>\n      <th>locationID</th>\n      <th>pickups</th>\n      <th>dropoffs</th>\n      <th>trip_distance</th>\n      <th>taxiTypeID</th>\n      <th>WID</th>\n      <th>CID</th>\n    </tr>\n  </thead>\n  <tbody>\n    <tr>\n      <th>0</th>\n      <td>0</td>\n      <td>737791</td>\n      <td>74</td>\n      <td>121</td>\n      <td>50</td>\n      <td>5.177274</td>\n      <td>green</td>\n      <td>34122</td>\n      <td>307</td>\n    </tr>\n    <tr>\n      <th>1</th>\n      <td>1</td>\n      <td>737791</td>\n      <td>75</td>\n      <td>76</td>\n      <td>31</td>\n      <td>5.177274</td>\n      <td>green</td>\n      <td>34122</td>\n      <td>307</td>\n    </tr>\n    <tr>\n      <th>2</th>\n      <td>2</td>\n      <td>737791</td>\n      <td>41</td>\n      <td>66</td>\n      <td>38</td>\n      <td>5.177274</td>\n      <td>green</td>\n      <td>34122</td>\n      <td>307</td>\n    </tr>\n    <tr>\n      <th>3</th>\n      <td>3</td>\n      <td>737791</td>\n      <td>42</td>\n      <td>59</td>\n      <td>51</td>\n      <td>5.177274</td>\n      <td>green</td>\n      <td>34122</td>\n      <td>307</td>\n    </tr>\n    <tr>\n      <th>4</th>\n      <td>4</td>\n      <td>737791</td>\n      <td>95</td>\n      <td>41</td>\n      <td>12</td>\n      <td>5.177274</td>\n      <td>green</td>\n      <td>34122</td>\n      <td>307</td>\n    </tr>\n    <tr>\n      <th>...</th>\n      <td>...</td>\n      <td>...</td>\n      <td>...</td>\n      <td>...</td>\n      <td>...</td>\n      <td>...</td>\n      <td>...</td>\n      <td>...</td>\n      <td>...</td>\n    </tr>\n    <tr>\n      <th>569930</th>\n      <td>569930</td>\n      <td>738155</td>\n      <td>52</td>\n      <td>0</td>\n      <td>2</td>\n      <td>6.449878</td>\n      <td>fhv</td>\n      <td>35873</td>\n      <td>671</td>\n    </tr>\n    <tr>\n      <th>569931</th>\n      <td>569931</td>\n      <td>738155</td>\n      <td>190</td>\n      <td>0</td>\n      <td>2</td>\n      <td>6.449878</td>\n      <td>fhv</td>\n      <td>35873</td>\n      <td>671</td>\n    </tr>\n    <tr>\n      <th>569932</th>\n      <td>569932</td>\n      <td>738155</td>\n      <td>96</td>\n      <td>0</td>\n      <td>1</td>\n      <td>6.449878</td>\n      <td>fhv</td>\n      <td>35873</td>\n      <td>671</td>\n    </tr>\n    <tr>\n      <th>569933</th>\n      <td>569933</td>\n      <td>738155</td>\n      <td>253</td>\n      <td>0</td>\n      <td>1</td>\n      <td>6.449878</td>\n      <td>fhv</td>\n      <td>35873</td>\n      <td>671</td>\n    </tr>\n    <tr>\n      <th>569934</th>\n      <td>569934</td>\n      <td>738155</td>\n      <td>12</td>\n      <td>0</td>\n      <td>1</td>\n      <td>6.449878</td>\n      <td>fhv</td>\n      <td>35873</td>\n      <td>671</td>\n    </tr>\n  </tbody>\n</table>\n<p>569935 rows × 9 columns</p>\n</div>"
     },
     "execution_count": 223,
     "metadata": {},
     "output_type": "execute_result"
    }
   ],
   "source": [
    "cube1"
   ],
   "metadata": {
    "collapsed": false,
    "pycharm": {
     "name": "#%%\n"
    }
   }
  },
  {
   "cell_type": "code",
   "execution_count": 224,
   "outputs": [
    {
     "data": {
      "text/plain": "                             pickups  dropoffs  trip_distance\ndateID WID   CID locationID                                  \n737484 33498 0   1                35       334       6.752974\n                 2                 0         2       4.452069\n                 3                28        28       6.752974\n                 4               730      1285       6.752974\n                 5                17        15       4.452069\n...                              ...       ...            ...\n738275 21308 791 261             818       705      36.161326\n                 262            1523      1822      36.161326\n                 263            3071      2903      36.161326\n                 264            1225       864      50.996540\n                 265             152       375      50.996540\n\n[204703 rows x 3 columns]",
      "text/html": "<div>\n<style scoped>\n    .dataframe tbody tr th:only-of-type {\n        vertical-align: middle;\n    }\n\n    .dataframe tbody tr th {\n        vertical-align: top;\n    }\n\n    .dataframe thead th {\n        text-align: right;\n    }\n</style>\n<table border=\"1\" class=\"dataframe\">\n  <thead>\n    <tr style=\"text-align: right;\">\n      <th></th>\n      <th></th>\n      <th></th>\n      <th></th>\n      <th>pickups</th>\n      <th>dropoffs</th>\n      <th>trip_distance</th>\n    </tr>\n    <tr>\n      <th>dateID</th>\n      <th>WID</th>\n      <th>CID</th>\n      <th>locationID</th>\n      <th></th>\n      <th></th>\n      <th></th>\n    </tr>\n  </thead>\n  <tbody>\n    <tr>\n      <th rowspan=\"5\" valign=\"top\">737484</th>\n      <th rowspan=\"5\" valign=\"top\">33498</th>\n      <th rowspan=\"5\" valign=\"top\">0</th>\n      <th>1</th>\n      <td>35</td>\n      <td>334</td>\n      <td>6.752974</td>\n    </tr>\n    <tr>\n      <th>2</th>\n      <td>0</td>\n      <td>2</td>\n      <td>4.452069</td>\n    </tr>\n    <tr>\n      <th>3</th>\n      <td>28</td>\n      <td>28</td>\n      <td>6.752974</td>\n    </tr>\n    <tr>\n      <th>4</th>\n      <td>730</td>\n      <td>1285</td>\n      <td>6.752974</td>\n    </tr>\n    <tr>\n      <th>5</th>\n      <td>17</td>\n      <td>15</td>\n      <td>4.452069</td>\n    </tr>\n    <tr>\n      <th>...</th>\n      <th>...</th>\n      <th>...</th>\n      <th>...</th>\n      <td>...</td>\n      <td>...</td>\n      <td>...</td>\n    </tr>\n    <tr>\n      <th rowspan=\"5\" valign=\"top\">738275</th>\n      <th rowspan=\"5\" valign=\"top\">21308</th>\n      <th rowspan=\"5\" valign=\"top\">791</th>\n      <th>261</th>\n      <td>818</td>\n      <td>705</td>\n      <td>36.161326</td>\n    </tr>\n    <tr>\n      <th>262</th>\n      <td>1523</td>\n      <td>1822</td>\n      <td>36.161326</td>\n    </tr>\n    <tr>\n      <th>263</th>\n      <td>3071</td>\n      <td>2903</td>\n      <td>36.161326</td>\n    </tr>\n    <tr>\n      <th>264</th>\n      <td>1225</td>\n      <td>864</td>\n      <td>50.996540</td>\n    </tr>\n    <tr>\n      <th>265</th>\n      <td>152</td>\n      <td>375</td>\n      <td>50.996540</td>\n    </tr>\n  </tbody>\n</table>\n<p>204703 rows × 3 columns</p>\n</div>"
     },
     "execution_count": 224,
     "metadata": {},
     "output_type": "execute_result"
    }
   ],
   "source": [
    "t1 = cube1[['dateID', 'WID', 'CID', 'locationID', 'pickups', 'dropoffs']].groupby(['dateID', 'WID', 'CID', 'locationID']).sum().sort_values(by=['dateID', 'locationID'])\n",
    "t2 = cube1[['dateID', 'WID', 'CID', 'locationID', 'trip_distance']].groupby(['dateID', 'WID', 'CID', 'locationID']).mean().sort_values(by=['dateID', 'locationID'])\n",
    "cube1 = pd.concat([t1, t2], axis=1)\n",
    "cube1\n"
   ],
   "metadata": {
    "collapsed": false,
    "pycharm": {
     "name": "#%%\n"
    }
   }
  },
  {
   "cell_type": "code",
   "execution_count": 225,
   "outputs": [],
   "source": [
    "cube2 = cube1[feature].unstack(level=-1)"
   ],
   "metadata": {
    "collapsed": false,
    "pycharm": {
     "name": "#%%\n"
    }
   }
  },
  {
   "cell_type": "code",
   "execution_count": 226,
   "outputs": [
    {
     "data": {
      "text/plain": "locationID          1    2      3       4     5     6       7    8     9    \\\ndateID WID   CID                                                             \n737484 33498 0    334.0  2.0   28.0  1285.0  15.0   7.0  1564.0  4.0  45.0   \n737485 33499 1    469.0  1.0   35.0  1033.0   8.0  33.0  1339.0  6.0  36.0   \n737486 33500 2    372.0  NaN   68.0   649.0  18.0  65.0  1121.0  5.0  69.0   \n737487 33501 3    386.0  NaN   66.0   807.0  16.0  80.0  1211.0  7.0  65.0   \n737488 33502 4    440.0  0.0  100.0   830.0  13.0  77.0  1198.0  6.0  64.0   \n...                 ...  ...    ...     ...   ...   ...     ...  ...   ...   \n738271 21304 787  274.0  NaN   18.0   444.0  20.0  47.0   463.0  2.0  48.0   \n738272 21305 788  319.0  1.0   35.0   441.0  23.0  59.0   494.0  3.0  39.0   \n738273 21306 789  501.0  NaN   40.0   449.0  14.0  53.0   545.0  2.0  57.0   \n738274 21307 790  437.0  0.0   27.0   582.0  22.0  53.0   630.0  4.0  47.0   \n738275 21308 791  371.0  0.0   18.0   717.0   6.0  16.0   690.0  6.0  27.0   \n\nlocationID          10   ...    256    257    258    259    260     261  \\\ndateID WID   CID         ...                                              \n737484 33498 0    238.0  ...  770.0  151.0   83.0   81.0  537.0  1015.0   \n737485 33499 1    244.0  ...  662.0  117.0   84.0   82.0  437.0   899.0   \n737486 33500 2    265.0  ...  457.0  113.0  132.0  124.0  421.0   937.0   \n737487 33501 3    258.0  ...  491.0  155.0  108.0  142.0  428.0  1028.0   \n737488 33502 4    266.0  ...  528.0  165.0  129.0  126.0  401.0   999.0   \n...                 ...  ...    ...    ...    ...    ...    ...     ...   \n738271 21304 787  104.0  ...  244.0   47.0   54.0   35.0  151.0   524.0   \n738272 21305 788  113.0  ...  264.0   74.0   62.0   41.0  167.0   587.0   \n738273 21306 789  104.0  ...  275.0   74.0   58.0   47.0  151.0   676.0   \n738274 21307 790  133.0  ...  298.0   64.0   71.0   38.0  155.0   627.0   \n738275 21308 791  119.0  ...  517.0   57.0   50.0   23.0  151.0   705.0   \n\nlocationID           262     263     264    265  \ndateID WID   CID                                 \n737484 33498 0    3334.0  5300.0  1473.0  503.0  \n737485 33499 1    2654.0  4064.0  1343.0  562.0  \n737486 33500 2    2904.0  3785.0  1084.0  474.0  \n737487 33501 3    3411.0  4331.0  1188.0  502.0  \n737488 33502 4    3404.0  4373.0  1312.0  485.0  \n...                  ...     ...     ...    ...  \n738271 21304 787  2073.0  2509.0   785.0  425.0  \n738272 21305 788  2087.0  2592.0   705.0  405.0  \n738273 21306 789  2126.0  2698.0   978.0  465.0  \n738274 21307 790  2045.0  2726.0   846.0  446.0  \n738275 21308 791  1822.0  2903.0   864.0  375.0  \n\n[792 rows x 264 columns]",
      "text/html": "<div>\n<style scoped>\n    .dataframe tbody tr th:only-of-type {\n        vertical-align: middle;\n    }\n\n    .dataframe tbody tr th {\n        vertical-align: top;\n    }\n\n    .dataframe thead th {\n        text-align: right;\n    }\n</style>\n<table border=\"1\" class=\"dataframe\">\n  <thead>\n    <tr style=\"text-align: right;\">\n      <th></th>\n      <th></th>\n      <th>locationID</th>\n      <th>1</th>\n      <th>2</th>\n      <th>3</th>\n      <th>4</th>\n      <th>5</th>\n      <th>6</th>\n      <th>7</th>\n      <th>8</th>\n      <th>9</th>\n      <th>10</th>\n      <th>...</th>\n      <th>256</th>\n      <th>257</th>\n      <th>258</th>\n      <th>259</th>\n      <th>260</th>\n      <th>261</th>\n      <th>262</th>\n      <th>263</th>\n      <th>264</th>\n      <th>265</th>\n    </tr>\n    <tr>\n      <th>dateID</th>\n      <th>WID</th>\n      <th>CID</th>\n      <th></th>\n      <th></th>\n      <th></th>\n      <th></th>\n      <th></th>\n      <th></th>\n      <th></th>\n      <th></th>\n      <th></th>\n      <th></th>\n      <th></th>\n      <th></th>\n      <th></th>\n      <th></th>\n      <th></th>\n      <th></th>\n      <th></th>\n      <th></th>\n      <th></th>\n      <th></th>\n      <th></th>\n    </tr>\n  </thead>\n  <tbody>\n    <tr>\n      <th>737484</th>\n      <th>33498</th>\n      <th>0</th>\n      <td>334.0</td>\n      <td>2.0</td>\n      <td>28.0</td>\n      <td>1285.0</td>\n      <td>15.0</td>\n      <td>7.0</td>\n      <td>1564.0</td>\n      <td>4.0</td>\n      <td>45.0</td>\n      <td>238.0</td>\n      <td>...</td>\n      <td>770.0</td>\n      <td>151.0</td>\n      <td>83.0</td>\n      <td>81.0</td>\n      <td>537.0</td>\n      <td>1015.0</td>\n      <td>3334.0</td>\n      <td>5300.0</td>\n      <td>1473.0</td>\n      <td>503.0</td>\n    </tr>\n    <tr>\n      <th>737485</th>\n      <th>33499</th>\n      <th>1</th>\n      <td>469.0</td>\n      <td>1.0</td>\n      <td>35.0</td>\n      <td>1033.0</td>\n      <td>8.0</td>\n      <td>33.0</td>\n      <td>1339.0</td>\n      <td>6.0</td>\n      <td>36.0</td>\n      <td>244.0</td>\n      <td>...</td>\n      <td>662.0</td>\n      <td>117.0</td>\n      <td>84.0</td>\n      <td>82.0</td>\n      <td>437.0</td>\n      <td>899.0</td>\n      <td>2654.0</td>\n      <td>4064.0</td>\n      <td>1343.0</td>\n      <td>562.0</td>\n    </tr>\n    <tr>\n      <th>737486</th>\n      <th>33500</th>\n      <th>2</th>\n      <td>372.0</td>\n      <td>NaN</td>\n      <td>68.0</td>\n      <td>649.0</td>\n      <td>18.0</td>\n      <td>65.0</td>\n      <td>1121.0</td>\n      <td>5.0</td>\n      <td>69.0</td>\n      <td>265.0</td>\n      <td>...</td>\n      <td>457.0</td>\n      <td>113.0</td>\n      <td>132.0</td>\n      <td>124.0</td>\n      <td>421.0</td>\n      <td>937.0</td>\n      <td>2904.0</td>\n      <td>3785.0</td>\n      <td>1084.0</td>\n      <td>474.0</td>\n    </tr>\n    <tr>\n      <th>737487</th>\n      <th>33501</th>\n      <th>3</th>\n      <td>386.0</td>\n      <td>NaN</td>\n      <td>66.0</td>\n      <td>807.0</td>\n      <td>16.0</td>\n      <td>80.0</td>\n      <td>1211.0</td>\n      <td>7.0</td>\n      <td>65.0</td>\n      <td>258.0</td>\n      <td>...</td>\n      <td>491.0</td>\n      <td>155.0</td>\n      <td>108.0</td>\n      <td>142.0</td>\n      <td>428.0</td>\n      <td>1028.0</td>\n      <td>3411.0</td>\n      <td>4331.0</td>\n      <td>1188.0</td>\n      <td>502.0</td>\n    </tr>\n    <tr>\n      <th>737488</th>\n      <th>33502</th>\n      <th>4</th>\n      <td>440.0</td>\n      <td>0.0</td>\n      <td>100.0</td>\n      <td>830.0</td>\n      <td>13.0</td>\n      <td>77.0</td>\n      <td>1198.0</td>\n      <td>6.0</td>\n      <td>64.0</td>\n      <td>266.0</td>\n      <td>...</td>\n      <td>528.0</td>\n      <td>165.0</td>\n      <td>129.0</td>\n      <td>126.0</td>\n      <td>401.0</td>\n      <td>999.0</td>\n      <td>3404.0</td>\n      <td>4373.0</td>\n      <td>1312.0</td>\n      <td>485.0</td>\n    </tr>\n    <tr>\n      <th>...</th>\n      <th>...</th>\n      <th>...</th>\n      <td>...</td>\n      <td>...</td>\n      <td>...</td>\n      <td>...</td>\n      <td>...</td>\n      <td>...</td>\n      <td>...</td>\n      <td>...</td>\n      <td>...</td>\n      <td>...</td>\n      <td>...</td>\n      <td>...</td>\n      <td>...</td>\n      <td>...</td>\n      <td>...</td>\n      <td>...</td>\n      <td>...</td>\n      <td>...</td>\n      <td>...</td>\n      <td>...</td>\n      <td>...</td>\n    </tr>\n    <tr>\n      <th>738271</th>\n      <th>21304</th>\n      <th>787</th>\n      <td>274.0</td>\n      <td>NaN</td>\n      <td>18.0</td>\n      <td>444.0</td>\n      <td>20.0</td>\n      <td>47.0</td>\n      <td>463.0</td>\n      <td>2.0</td>\n      <td>48.0</td>\n      <td>104.0</td>\n      <td>...</td>\n      <td>244.0</td>\n      <td>47.0</td>\n      <td>54.0</td>\n      <td>35.0</td>\n      <td>151.0</td>\n      <td>524.0</td>\n      <td>2073.0</td>\n      <td>2509.0</td>\n      <td>785.0</td>\n      <td>425.0</td>\n    </tr>\n    <tr>\n      <th>738272</th>\n      <th>21305</th>\n      <th>788</th>\n      <td>319.0</td>\n      <td>1.0</td>\n      <td>35.0</td>\n      <td>441.0</td>\n      <td>23.0</td>\n      <td>59.0</td>\n      <td>494.0</td>\n      <td>3.0</td>\n      <td>39.0</td>\n      <td>113.0</td>\n      <td>...</td>\n      <td>264.0</td>\n      <td>74.0</td>\n      <td>62.0</td>\n      <td>41.0</td>\n      <td>167.0</td>\n      <td>587.0</td>\n      <td>2087.0</td>\n      <td>2592.0</td>\n      <td>705.0</td>\n      <td>405.0</td>\n    </tr>\n    <tr>\n      <th>738273</th>\n      <th>21306</th>\n      <th>789</th>\n      <td>501.0</td>\n      <td>NaN</td>\n      <td>40.0</td>\n      <td>449.0</td>\n      <td>14.0</td>\n      <td>53.0</td>\n      <td>545.0</td>\n      <td>2.0</td>\n      <td>57.0</td>\n      <td>104.0</td>\n      <td>...</td>\n      <td>275.0</td>\n      <td>74.0</td>\n      <td>58.0</td>\n      <td>47.0</td>\n      <td>151.0</td>\n      <td>676.0</td>\n      <td>2126.0</td>\n      <td>2698.0</td>\n      <td>978.0</td>\n      <td>465.0</td>\n    </tr>\n    <tr>\n      <th>738274</th>\n      <th>21307</th>\n      <th>790</th>\n      <td>437.0</td>\n      <td>0.0</td>\n      <td>27.0</td>\n      <td>582.0</td>\n      <td>22.0</td>\n      <td>53.0</td>\n      <td>630.0</td>\n      <td>4.0</td>\n      <td>47.0</td>\n      <td>133.0</td>\n      <td>...</td>\n      <td>298.0</td>\n      <td>64.0</td>\n      <td>71.0</td>\n      <td>38.0</td>\n      <td>155.0</td>\n      <td>627.0</td>\n      <td>2045.0</td>\n      <td>2726.0</td>\n      <td>846.0</td>\n      <td>446.0</td>\n    </tr>\n    <tr>\n      <th>738275</th>\n      <th>21308</th>\n      <th>791</th>\n      <td>371.0</td>\n      <td>0.0</td>\n      <td>18.0</td>\n      <td>717.0</td>\n      <td>6.0</td>\n      <td>16.0</td>\n      <td>690.0</td>\n      <td>6.0</td>\n      <td>27.0</td>\n      <td>119.0</td>\n      <td>...</td>\n      <td>517.0</td>\n      <td>57.0</td>\n      <td>50.0</td>\n      <td>23.0</td>\n      <td>151.0</td>\n      <td>705.0</td>\n      <td>1822.0</td>\n      <td>2903.0</td>\n      <td>864.0</td>\n      <td>375.0</td>\n    </tr>\n  </tbody>\n</table>\n<p>792 rows × 264 columns</p>\n</div>"
     },
     "execution_count": 226,
     "metadata": {},
     "output_type": "execute_result"
    }
   ],
   "source": [
    "cube2"
   ],
   "metadata": {
    "collapsed": false,
    "pycharm": {
     "name": "#%%\n"
    }
   }
  },
  {
   "cell_type": "code",
   "execution_count": 208,
   "outputs": [],
   "source": [
    "cube2 = cube2.reset_index()"
   ],
   "metadata": {
    "collapsed": false,
    "pycharm": {
     "name": "#%%\n"
    }
   }
  },
  {
   "cell_type": "code",
   "execution_count": 209,
   "outputs": [
    {
     "data": {
      "text/plain": "Index(['dateID',    'WID',    'CID',        1,        2,        3,        4,\n              5,        6,        7,\n       ...\n            256,      257,      258,      259,      260,      261,      262,\n            263,      264,      265],\n      dtype='object', name='locationID', length=267)"
     },
     "execution_count": 209,
     "metadata": {},
     "output_type": "execute_result"
    }
   ],
   "source": [
    "cube2.columns"
   ],
   "metadata": {
    "collapsed": false,
    "pycharm": {
     "name": "#%%\n"
    }
   }
  },
  {
   "cell_type": "code",
   "execution_count": 210,
   "outputs": [
    {
     "data": {
      "text/plain": "      dateID  year  month  day\n0     736695  2018      1    1\n1     736696  2018      1    2\n2     736697  2018      1    3\n3     736698  2018      1    4\n4     736699  2018      1    5\n...      ...   ...    ...  ...\n1821  738516  2022     12   27\n1822  738517  2022     12   28\n1823  738518  2022     12   29\n1824  738519  2022     12   30\n1825  738520  2022     12   31\n\n[1826 rows x 4 columns]",
      "text/html": "<div>\n<style scoped>\n    .dataframe tbody tr th:only-of-type {\n        vertical-align: middle;\n    }\n\n    .dataframe tbody tr th {\n        vertical-align: top;\n    }\n\n    .dataframe thead th {\n        text-align: right;\n    }\n</style>\n<table border=\"1\" class=\"dataframe\">\n  <thead>\n    <tr style=\"text-align: right;\">\n      <th></th>\n      <th>dateID</th>\n      <th>year</th>\n      <th>month</th>\n      <th>day</th>\n    </tr>\n  </thead>\n  <tbody>\n    <tr>\n      <th>0</th>\n      <td>736695</td>\n      <td>2018</td>\n      <td>1</td>\n      <td>1</td>\n    </tr>\n    <tr>\n      <th>1</th>\n      <td>736696</td>\n      <td>2018</td>\n      <td>1</td>\n      <td>2</td>\n    </tr>\n    <tr>\n      <th>2</th>\n      <td>736697</td>\n      <td>2018</td>\n      <td>1</td>\n      <td>3</td>\n    </tr>\n    <tr>\n      <th>3</th>\n      <td>736698</td>\n      <td>2018</td>\n      <td>1</td>\n      <td>4</td>\n    </tr>\n    <tr>\n      <th>4</th>\n      <td>736699</td>\n      <td>2018</td>\n      <td>1</td>\n      <td>5</td>\n    </tr>\n    <tr>\n      <th>...</th>\n      <td>...</td>\n      <td>...</td>\n      <td>...</td>\n      <td>...</td>\n    </tr>\n    <tr>\n      <th>1821</th>\n      <td>738516</td>\n      <td>2022</td>\n      <td>12</td>\n      <td>27</td>\n    </tr>\n    <tr>\n      <th>1822</th>\n      <td>738517</td>\n      <td>2022</td>\n      <td>12</td>\n      <td>28</td>\n    </tr>\n    <tr>\n      <th>1823</th>\n      <td>738518</td>\n      <td>2022</td>\n      <td>12</td>\n      <td>29</td>\n    </tr>\n    <tr>\n      <th>1824</th>\n      <td>738519</td>\n      <td>2022</td>\n      <td>12</td>\n      <td>30</td>\n    </tr>\n    <tr>\n      <th>1825</th>\n      <td>738520</td>\n      <td>2022</td>\n      <td>12</td>\n      <td>31</td>\n    </tr>\n  </tbody>\n</table>\n<p>1826 rows × 4 columns</p>\n</div>"
     },
     "execution_count": 210,
     "metadata": {},
     "output_type": "execute_result"
    }
   ],
   "source": [
    "calendar[['dateID', 'year', 'month', 'day']]"
   ],
   "metadata": {
    "collapsed": false,
    "pycharm": {
     "name": "#%%\n"
    }
   }
  },
  {
   "cell_type": "code",
   "execution_count": 211,
   "outputs": [],
   "source": [
    "cube2 = cube2.merge(calendar[['dateID', 'year', 'month', 'day']], how='left', on='dateID')\n"
   ],
   "metadata": {
    "collapsed": false,
    "pycharm": {
     "name": "#%%\n"
    }
   }
  },
  {
   "cell_type": "code",
   "execution_count": 212,
   "outputs": [],
   "source": [
    "cube2 = cube2.set_index(['year', 'month', 'day'])"
   ],
   "metadata": {
    "collapsed": false,
    "pycharm": {
     "name": "#%%\n"
    }
   }
  },
  {
   "cell_type": "code",
   "execution_count": 213,
   "outputs": [],
   "source": [
    "tcube = cube2.copy()"
   ],
   "metadata": {
    "collapsed": false,
    "pycharm": {
     "name": "#%%\n"
    }
   }
  },
  {
   "cell_type": "code",
   "execution_count": 214,
   "outputs": [
    {
     "data": {
      "text/plain": "     LocationID        Borough\n0             1            EWR\n1             2         Queens\n2             3          Bronx\n3             4      Manhattan\n4             5  Staten Island\n..          ...            ...\n251         259          Bronx\n252         260         Queens\n253         261      Manhattan\n254         262      Manhattan\n255         263      Manhattan\n\n[256 rows x 2 columns]",
      "text/html": "<div>\n<style scoped>\n    .dataframe tbody tr th:only-of-type {\n        vertical-align: middle;\n    }\n\n    .dataframe tbody tr th {\n        vertical-align: top;\n    }\n\n    .dataframe thead th {\n        text-align: right;\n    }\n</style>\n<table border=\"1\" class=\"dataframe\">\n  <thead>\n    <tr style=\"text-align: right;\">\n      <th></th>\n      <th>LocationID</th>\n      <th>Borough</th>\n    </tr>\n  </thead>\n  <tbody>\n    <tr>\n      <th>0</th>\n      <td>1</td>\n      <td>EWR</td>\n    </tr>\n    <tr>\n      <th>1</th>\n      <td>2</td>\n      <td>Queens</td>\n    </tr>\n    <tr>\n      <th>2</th>\n      <td>3</td>\n      <td>Bronx</td>\n    </tr>\n    <tr>\n      <th>3</th>\n      <td>4</td>\n      <td>Manhattan</td>\n    </tr>\n    <tr>\n      <th>4</th>\n      <td>5</td>\n      <td>Staten Island</td>\n    </tr>\n    <tr>\n      <th>...</th>\n      <td>...</td>\n      <td>...</td>\n    </tr>\n    <tr>\n      <th>251</th>\n      <td>259</td>\n      <td>Bronx</td>\n    </tr>\n    <tr>\n      <th>252</th>\n      <td>260</td>\n      <td>Queens</td>\n    </tr>\n    <tr>\n      <th>253</th>\n      <td>261</td>\n      <td>Manhattan</td>\n    </tr>\n    <tr>\n      <th>254</th>\n      <td>262</td>\n      <td>Manhattan</td>\n    </tr>\n    <tr>\n      <th>255</th>\n      <td>263</td>\n      <td>Manhattan</td>\n    </tr>\n  </tbody>\n</table>\n<p>256 rows × 2 columns</p>\n</div>"
     },
     "execution_count": 214,
     "metadata": {},
     "output_type": "execute_result"
    }
   ],
   "source": [
    "taxi_zone_lookup[['LocationID', 'Borough']]"
   ],
   "metadata": {
    "collapsed": false,
    "pycharm": {
     "name": "#%%\n"
    }
   }
  },
  {
   "cell_type": "code",
   "execution_count": 215,
   "outputs": [],
   "source": [
    "t_cube = tcube.drop(columns=['dateID', 'WID', 'CID', 265, 264])\n",
    "location_id_map = taxi_zone_lookup[['LocationID', 'Borough']].set_index('LocationID').to_dict()['Borough']\n",
    "mc1 = [x for x in t_cube.columns]\n",
    "mc2 = [location_id_map[x] if x in location_id_map else 'undefined' for x in mc1]\n",
    "multi_columns = [mc2, mc1]"
   ],
   "metadata": {
    "collapsed": false,
    "pycharm": {
     "name": "#%%\n"
    }
   }
  },
  {
   "cell_type": "code",
   "execution_count": 216,
   "outputs": [],
   "source": [
    "t_cube.columns = multi_columns"
   ],
   "metadata": {
    "collapsed": false,
    "pycharm": {
     "name": "#%%\n"
    }
   }
  },
  {
   "cell_type": "code",
   "execution_count": 217,
   "outputs": [],
   "source": [
    "cube_pickups = t_cube.reindex(sorted(t_cube.columns), axis=1)"
   ],
   "metadata": {
    "collapsed": false,
    "pycharm": {
     "name": "#%%\n"
    }
   }
  },
  {
   "cell_type": "code",
   "execution_count": 218,
   "outputs": [
    {
     "ename": "KeyError",
     "evalue": "'dateID'",
     "output_type": "error",
     "traceback": [
      "\u001B[1;31m---------------------------------------------------------------------------\u001B[0m",
      "\u001B[1;31mKeyError\u001B[0m                                  Traceback (most recent call last)",
      "File \u001B[1;32mC:\\anaconda\\envs\\nyc\\lib\\site-packages\\pandas\\core\\indexes\\base.py:3621\u001B[0m, in \u001B[0;36mIndex.get_loc\u001B[1;34m(self, key, method, tolerance)\u001B[0m\n\u001B[0;32m   3620\u001B[0m \u001B[38;5;28;01mtry\u001B[39;00m:\n\u001B[1;32m-> 3621\u001B[0m     \u001B[38;5;28;01mreturn\u001B[39;00m \u001B[38;5;28;43mself\u001B[39;49m\u001B[38;5;241;43m.\u001B[39;49m\u001B[43m_engine\u001B[49m\u001B[38;5;241;43m.\u001B[39;49m\u001B[43mget_loc\u001B[49m\u001B[43m(\u001B[49m\u001B[43mcasted_key\u001B[49m\u001B[43m)\u001B[49m\n\u001B[0;32m   3622\u001B[0m \u001B[38;5;28;01mexcept\u001B[39;00m \u001B[38;5;167;01mKeyError\u001B[39;00m \u001B[38;5;28;01mas\u001B[39;00m err:\n",
      "File \u001B[1;32mC:\\anaconda\\envs\\nyc\\lib\\site-packages\\pandas\\_libs\\index.pyx:136\u001B[0m, in \u001B[0;36mpandas._libs.index.IndexEngine.get_loc\u001B[1;34m()\u001B[0m\n",
      "File \u001B[1;32mC:\\anaconda\\envs\\nyc\\lib\\site-packages\\pandas\\_libs\\index.pyx:163\u001B[0m, in \u001B[0;36mpandas._libs.index.IndexEngine.get_loc\u001B[1;34m()\u001B[0m\n",
      "File \u001B[1;32mpandas\\_libs\\hashtable_class_helper.pxi:5198\u001B[0m, in \u001B[0;36mpandas._libs.hashtable.PyObjectHashTable.get_item\u001B[1;34m()\u001B[0m\n",
      "File \u001B[1;32mpandas\\_libs\\hashtable_class_helper.pxi:5206\u001B[0m, in \u001B[0;36mpandas._libs.hashtable.PyObjectHashTable.get_item\u001B[1;34m()\u001B[0m\n",
      "\u001B[1;31mKeyError\u001B[0m: 'dateID'",
      "\nThe above exception was the direct cause of the following exception:\n",
      "\u001B[1;31mKeyError\u001B[0m                                  Traceback (most recent call last)",
      "Input \u001B[1;32mIn [218]\u001B[0m, in \u001B[0;36m<cell line: 3>\u001B[1;34m()\u001B[0m\n\u001B[0;32m      1\u001B[0m \u001B[38;5;66;03m# cube1[feature].unstack(level=4)\u001B[39;00m\n\u001B[0;32m      2\u001B[0m \u001B[38;5;66;03m# cube1.melt(id_vars=['year', 'month', 'day', 'locationID'], value_vars=['pickups'])\u001B[39;00m\n\u001B[1;32m----> 3\u001B[0m \u001B[43mcube1\u001B[49m\u001B[38;5;241;43m.\u001B[39;49m\u001B[43mpivot\u001B[49m\u001B[43m(\u001B[49m\u001B[43mindex\u001B[49m\u001B[38;5;241;43m=\u001B[39;49m\u001B[38;5;124;43m'\u001B[39;49m\u001B[38;5;124;43mdateID\u001B[39;49m\u001B[38;5;124;43m'\u001B[39;49m\u001B[43m,\u001B[49m\u001B[43m \u001B[49m\u001B[43mcolumns\u001B[49m\u001B[38;5;241;43m=\u001B[39;49m\u001B[38;5;124;43m'\u001B[39;49m\u001B[38;5;124;43mlocationID\u001B[39;49m\u001B[38;5;124;43m'\u001B[39;49m\u001B[43m,\u001B[49m\u001B[43m \u001B[49m\u001B[43mvalues\u001B[49m\u001B[38;5;241;43m=\u001B[39;49m\u001B[38;5;124;43m'\u001B[39;49m\u001B[38;5;124;43mpickups\u001B[39;49m\u001B[38;5;124;43m'\u001B[39;49m\u001B[43m)\u001B[49m\n",
      "File \u001B[1;32mC:\\anaconda\\envs\\nyc\\lib\\site-packages\\pandas\\core\\frame.py:7882\u001B[0m, in \u001B[0;36mDataFrame.pivot\u001B[1;34m(self, index, columns, values)\u001B[0m\n\u001B[0;32m   7877\u001B[0m \u001B[38;5;129m@Substitution\u001B[39m(\u001B[38;5;124m\"\u001B[39m\u001B[38;5;124m\"\u001B[39m)\n\u001B[0;32m   7878\u001B[0m \u001B[38;5;129m@Appender\u001B[39m(_shared_docs[\u001B[38;5;124m\"\u001B[39m\u001B[38;5;124mpivot\u001B[39m\u001B[38;5;124m\"\u001B[39m])\n\u001B[0;32m   7879\u001B[0m \u001B[38;5;28;01mdef\u001B[39;00m \u001B[38;5;21mpivot\u001B[39m(\u001B[38;5;28mself\u001B[39m, index\u001B[38;5;241m=\u001B[39m\u001B[38;5;28;01mNone\u001B[39;00m, columns\u001B[38;5;241m=\u001B[39m\u001B[38;5;28;01mNone\u001B[39;00m, values\u001B[38;5;241m=\u001B[39m\u001B[38;5;28;01mNone\u001B[39;00m) \u001B[38;5;241m-\u001B[39m\u001B[38;5;241m>\u001B[39m DataFrame:\n\u001B[0;32m   7880\u001B[0m     \u001B[38;5;28;01mfrom\u001B[39;00m \u001B[38;5;21;01mpandas\u001B[39;00m\u001B[38;5;21;01m.\u001B[39;00m\u001B[38;5;21;01mcore\u001B[39;00m\u001B[38;5;21;01m.\u001B[39;00m\u001B[38;5;21;01mreshape\u001B[39;00m\u001B[38;5;21;01m.\u001B[39;00m\u001B[38;5;21;01mpivot\u001B[39;00m \u001B[38;5;28;01mimport\u001B[39;00m pivot\n\u001B[1;32m-> 7882\u001B[0m     \u001B[38;5;28;01mreturn\u001B[39;00m \u001B[43mpivot\u001B[49m\u001B[43m(\u001B[49m\u001B[38;5;28;43mself\u001B[39;49m\u001B[43m,\u001B[49m\u001B[43m \u001B[49m\u001B[43mindex\u001B[49m\u001B[38;5;241;43m=\u001B[39;49m\u001B[43mindex\u001B[49m\u001B[43m,\u001B[49m\u001B[43m \u001B[49m\u001B[43mcolumns\u001B[49m\u001B[38;5;241;43m=\u001B[39;49m\u001B[43mcolumns\u001B[49m\u001B[43m,\u001B[49m\u001B[43m \u001B[49m\u001B[43mvalues\u001B[49m\u001B[38;5;241;43m=\u001B[39;49m\u001B[43mvalues\u001B[49m\u001B[43m)\u001B[49m\n",
      "File \u001B[1;32mC:\\anaconda\\envs\\nyc\\lib\\site-packages\\pandas\\core\\reshape\\pivot.py:506\u001B[0m, in \u001B[0;36mpivot\u001B[1;34m(data, index, columns, values)\u001B[0m\n\u001B[0;32m    504\u001B[0m         index_list \u001B[38;5;241m=\u001B[39m [Series(data\u001B[38;5;241m.\u001B[39mindex, name\u001B[38;5;241m=\u001B[39mdata\u001B[38;5;241m.\u001B[39mindex\u001B[38;5;241m.\u001B[39mname)]\n\u001B[0;32m    505\u001B[0m \u001B[38;5;28;01melse\u001B[39;00m:\n\u001B[1;32m--> 506\u001B[0m     index_list \u001B[38;5;241m=\u001B[39m [data[idx] \u001B[38;5;28;01mfor\u001B[39;00m idx \u001B[38;5;129;01min\u001B[39;00m com\u001B[38;5;241m.\u001B[39mconvert_to_list_like(index)]\n\u001B[0;32m    508\u001B[0m data_columns \u001B[38;5;241m=\u001B[39m [data[col] \u001B[38;5;28;01mfor\u001B[39;00m col \u001B[38;5;129;01min\u001B[39;00m columns_listlike]\n\u001B[0;32m    509\u001B[0m index_list\u001B[38;5;241m.\u001B[39mextend(data_columns)\n",
      "File \u001B[1;32mC:\\anaconda\\envs\\nyc\\lib\\site-packages\\pandas\\core\\reshape\\pivot.py:506\u001B[0m, in \u001B[0;36m<listcomp>\u001B[1;34m(.0)\u001B[0m\n\u001B[0;32m    504\u001B[0m         index_list \u001B[38;5;241m=\u001B[39m [Series(data\u001B[38;5;241m.\u001B[39mindex, name\u001B[38;5;241m=\u001B[39mdata\u001B[38;5;241m.\u001B[39mindex\u001B[38;5;241m.\u001B[39mname)]\n\u001B[0;32m    505\u001B[0m \u001B[38;5;28;01melse\u001B[39;00m:\n\u001B[1;32m--> 506\u001B[0m     index_list \u001B[38;5;241m=\u001B[39m [\u001B[43mdata\u001B[49m\u001B[43m[\u001B[49m\u001B[43midx\u001B[49m\u001B[43m]\u001B[49m \u001B[38;5;28;01mfor\u001B[39;00m idx \u001B[38;5;129;01min\u001B[39;00m com\u001B[38;5;241m.\u001B[39mconvert_to_list_like(index)]\n\u001B[0;32m    508\u001B[0m data_columns \u001B[38;5;241m=\u001B[39m [data[col] \u001B[38;5;28;01mfor\u001B[39;00m col \u001B[38;5;129;01min\u001B[39;00m columns_listlike]\n\u001B[0;32m    509\u001B[0m index_list\u001B[38;5;241m.\u001B[39mextend(data_columns)\n",
      "File \u001B[1;32mC:\\anaconda\\envs\\nyc\\lib\\site-packages\\pandas\\core\\frame.py:3505\u001B[0m, in \u001B[0;36mDataFrame.__getitem__\u001B[1;34m(self, key)\u001B[0m\n\u001B[0;32m   3503\u001B[0m \u001B[38;5;28;01mif\u001B[39;00m \u001B[38;5;28mself\u001B[39m\u001B[38;5;241m.\u001B[39mcolumns\u001B[38;5;241m.\u001B[39mnlevels \u001B[38;5;241m>\u001B[39m \u001B[38;5;241m1\u001B[39m:\n\u001B[0;32m   3504\u001B[0m     \u001B[38;5;28;01mreturn\u001B[39;00m \u001B[38;5;28mself\u001B[39m\u001B[38;5;241m.\u001B[39m_getitem_multilevel(key)\n\u001B[1;32m-> 3505\u001B[0m indexer \u001B[38;5;241m=\u001B[39m \u001B[38;5;28;43mself\u001B[39;49m\u001B[38;5;241;43m.\u001B[39;49m\u001B[43mcolumns\u001B[49m\u001B[38;5;241;43m.\u001B[39;49m\u001B[43mget_loc\u001B[49m\u001B[43m(\u001B[49m\u001B[43mkey\u001B[49m\u001B[43m)\u001B[49m\n\u001B[0;32m   3506\u001B[0m \u001B[38;5;28;01mif\u001B[39;00m is_integer(indexer):\n\u001B[0;32m   3507\u001B[0m     indexer \u001B[38;5;241m=\u001B[39m [indexer]\n",
      "File \u001B[1;32mC:\\anaconda\\envs\\nyc\\lib\\site-packages\\pandas\\core\\indexes\\base.py:3623\u001B[0m, in \u001B[0;36mIndex.get_loc\u001B[1;34m(self, key, method, tolerance)\u001B[0m\n\u001B[0;32m   3621\u001B[0m     \u001B[38;5;28;01mreturn\u001B[39;00m \u001B[38;5;28mself\u001B[39m\u001B[38;5;241m.\u001B[39m_engine\u001B[38;5;241m.\u001B[39mget_loc(casted_key)\n\u001B[0;32m   3622\u001B[0m \u001B[38;5;28;01mexcept\u001B[39;00m \u001B[38;5;167;01mKeyError\u001B[39;00m \u001B[38;5;28;01mas\u001B[39;00m err:\n\u001B[1;32m-> 3623\u001B[0m     \u001B[38;5;28;01mraise\u001B[39;00m \u001B[38;5;167;01mKeyError\u001B[39;00m(key) \u001B[38;5;28;01mfrom\u001B[39;00m \u001B[38;5;21;01merr\u001B[39;00m\n\u001B[0;32m   3624\u001B[0m \u001B[38;5;28;01mexcept\u001B[39;00m \u001B[38;5;167;01mTypeError\u001B[39;00m:\n\u001B[0;32m   3625\u001B[0m     \u001B[38;5;66;03m# If we have a listlike key, _check_indexing_error will raise\u001B[39;00m\n\u001B[0;32m   3626\u001B[0m     \u001B[38;5;66;03m#  InvalidIndexError. Otherwise we fall through and re-raise\u001B[39;00m\n\u001B[0;32m   3627\u001B[0m     \u001B[38;5;66;03m#  the TypeError.\u001B[39;00m\n\u001B[0;32m   3628\u001B[0m     \u001B[38;5;28mself\u001B[39m\u001B[38;5;241m.\u001B[39m_check_indexing_error(key)\n",
      "\u001B[1;31mKeyError\u001B[0m: 'dateID'"
     ]
    }
   ],
   "source": [
    "# cube1[feature].unstack(level=4)\n",
    "# cube1.melt(id_vars=['year', 'month', 'day', 'locationID'], value_vars=['pickups'])\n",
    "cube1.pivot(index='dateID', columns='locationID', values=feature)"
   ],
   "metadata": {
    "collapsed": false,
    "pycharm": {
     "name": "#%%\n"
    }
   }
  },
  {
   "cell_type": "code",
   "execution_count": 219,
   "outputs": [
    {
     "ename": "SyntaxError",
     "evalue": "unterminated string literal (detected at line 1) (3684255329.py, line 1)",
     "output_type": "error",
     "traceback": [
      "\u001B[1;36m  Input \u001B[1;32mIn [219]\u001B[1;36m\u001B[0m\n\u001B[1;33m    'def get_value_counts_as_columns(df, feature):\u001B[0m\n\u001B[1;37m    ^\u001B[0m\n\u001B[1;31mSyntaxError\u001B[0m\u001B[1;31m:\u001B[0m unterminated string literal (detected at line 1)\n"
     ]
    }
   ],
   "source": [
    "def get_value_counts_as_columns(df, feature):\n",
    "    ret_df = pd.DataFrame()\n",
    "    sub_df = df\n",
    "    sub_df = sub_df[sub_df[feature].notna()]\n",
    "    sub_df = sub_df.reset_index()\n",
    "    sub_df['temp'] = feature + '_'\n",
    "    sub_df['index'] = sub_df['index'].astype('str')\n",
    "    sub_df['index'] = sub_df['temp'] + sub_df['index']\n",
    "    sub_df = sub_df.drop(columns=['temp'])\n",
    "    # sub_df['index'] = sub_df['index'].apply(lambda x: f'{feature}_{int(x)}')\n",
    "    sub_df = sub_df.swapaxes(0, 1)\n",
    "    sub_df.columns = list(sub_df.iloc[0])\n",
    "    sub_df = sub_df.drop('index')\n",
    "    ret_df = pd.concat([ret_df, sub_df], axis=0)\n",
    "    return ret_df"
   ],
   "metadata": {
    "collapsed": false,
    "pycharm": {
     "name": "#%%\n"
    }
   }
  },
  {
   "cell_type": "code",
   "execution_count": null,
   "outputs": [],
   "source": [
    "'pd.DataFrame(columns=['a', 'b'], index=[1, 2], data=[[[7, 3], [7, 3]],[[7, 3], [7, 3]]])\n"
   ],
   "metadata": {
    "collapsed": false,
    "pycharm": {
     "name": "#%%\n"
    }
   }
  },
  {
   "cell_type": "code",
   "execution_count": null,
   "outputs": [],
   "source": [],
   "metadata": {
    "collapsed": false,
    "pycharm": {
     "name": "#%%\n"
    }
   }
  },
  {
   "cell_type": "markdown",
   "source": [
    "## Auswertung"
   ],
   "metadata": {
    "collapsed": false,
    "pycharm": {
     "name": "#%% md\n"
    }
   }
  },
  {
   "cell_type": "code",
   "execution_count": 220,
   "outputs": [
    {
     "data": {
      "text/plain": "                 Bronx  Brooklyn    EWR  Manhattan   Queens  Staten Island  \\\nyear month day                                                               \n2020 2     29   3180.0   15061.0  334.0   213528.0  16959.0          865.0   \n     3     1    2584.0   13479.0  469.0   160978.0  17232.0         1342.0   \n           2    4552.0   14233.0  372.0   179829.0  17990.0         1874.0   \n           3    4686.0   15603.0  386.0   209328.0  17956.0         1858.0   \n           4    4891.0   16220.0  440.0   214966.0  18883.0         1832.0   \n...                ...       ...    ...        ...      ...            ...   \n2022 4     26   1650.0    7663.0  274.0   112162.0   8888.0         1262.0   \n           27   1896.0    8255.0  319.0   119155.0   9992.0         1314.0   \n           28   1880.0    8283.0  501.0   119165.0  10812.0         1206.0   \n           29   1798.0    8117.0  437.0   118800.0  11026.0         1238.0   \n           30   1249.0    7927.0  371.0   116483.0   8600.0          715.0   \n\n                undefined  \nyear month day             \n2020 2     29       554.0  \n     3     1        489.0  \n           2        540.0  \n           3        567.0  \n           4        630.0  \n...                   ...  \n2022 4     26       201.0  \n           27       190.0  \n           28       212.0  \n           29       203.0  \n           30       199.0  \n\n[792 rows x 7 columns]",
      "text/html": "<div>\n<style scoped>\n    .dataframe tbody tr th:only-of-type {\n        vertical-align: middle;\n    }\n\n    .dataframe tbody tr th {\n        vertical-align: top;\n    }\n\n    .dataframe thead th {\n        text-align: right;\n    }\n</style>\n<table border=\"1\" class=\"dataframe\">\n  <thead>\n    <tr style=\"text-align: right;\">\n      <th></th>\n      <th></th>\n      <th></th>\n      <th>Bronx</th>\n      <th>Brooklyn</th>\n      <th>EWR</th>\n      <th>Manhattan</th>\n      <th>Queens</th>\n      <th>Staten Island</th>\n      <th>undefined</th>\n    </tr>\n    <tr>\n      <th>year</th>\n      <th>month</th>\n      <th>day</th>\n      <th></th>\n      <th></th>\n      <th></th>\n      <th></th>\n      <th></th>\n      <th></th>\n      <th></th>\n    </tr>\n  </thead>\n  <tbody>\n    <tr>\n      <th rowspan=\"5\" valign=\"top\">2020</th>\n      <th>2</th>\n      <th>29</th>\n      <td>3180.0</td>\n      <td>15061.0</td>\n      <td>334.0</td>\n      <td>213528.0</td>\n      <td>16959.0</td>\n      <td>865.0</td>\n      <td>554.0</td>\n    </tr>\n    <tr>\n      <th rowspan=\"4\" valign=\"top\">3</th>\n      <th>1</th>\n      <td>2584.0</td>\n      <td>13479.0</td>\n      <td>469.0</td>\n      <td>160978.0</td>\n      <td>17232.0</td>\n      <td>1342.0</td>\n      <td>489.0</td>\n    </tr>\n    <tr>\n      <th>2</th>\n      <td>4552.0</td>\n      <td>14233.0</td>\n      <td>372.0</td>\n      <td>179829.0</td>\n      <td>17990.0</td>\n      <td>1874.0</td>\n      <td>540.0</td>\n    </tr>\n    <tr>\n      <th>3</th>\n      <td>4686.0</td>\n      <td>15603.0</td>\n      <td>386.0</td>\n      <td>209328.0</td>\n      <td>17956.0</td>\n      <td>1858.0</td>\n      <td>567.0</td>\n    </tr>\n    <tr>\n      <th>4</th>\n      <td>4891.0</td>\n      <td>16220.0</td>\n      <td>440.0</td>\n      <td>214966.0</td>\n      <td>18883.0</td>\n      <td>1832.0</td>\n      <td>630.0</td>\n    </tr>\n    <tr>\n      <th>...</th>\n      <th>...</th>\n      <th>...</th>\n      <td>...</td>\n      <td>...</td>\n      <td>...</td>\n      <td>...</td>\n      <td>...</td>\n      <td>...</td>\n      <td>...</td>\n    </tr>\n    <tr>\n      <th rowspan=\"5\" valign=\"top\">2022</th>\n      <th rowspan=\"5\" valign=\"top\">4</th>\n      <th>26</th>\n      <td>1650.0</td>\n      <td>7663.0</td>\n      <td>274.0</td>\n      <td>112162.0</td>\n      <td>8888.0</td>\n      <td>1262.0</td>\n      <td>201.0</td>\n    </tr>\n    <tr>\n      <th>27</th>\n      <td>1896.0</td>\n      <td>8255.0</td>\n      <td>319.0</td>\n      <td>119155.0</td>\n      <td>9992.0</td>\n      <td>1314.0</td>\n      <td>190.0</td>\n    </tr>\n    <tr>\n      <th>28</th>\n      <td>1880.0</td>\n      <td>8283.0</td>\n      <td>501.0</td>\n      <td>119165.0</td>\n      <td>10812.0</td>\n      <td>1206.0</td>\n      <td>212.0</td>\n    </tr>\n    <tr>\n      <th>29</th>\n      <td>1798.0</td>\n      <td>8117.0</td>\n      <td>437.0</td>\n      <td>118800.0</td>\n      <td>11026.0</td>\n      <td>1238.0</td>\n      <td>203.0</td>\n    </tr>\n    <tr>\n      <th>30</th>\n      <td>1249.0</td>\n      <td>7927.0</td>\n      <td>371.0</td>\n      <td>116483.0</td>\n      <td>8600.0</td>\n      <td>715.0</td>\n      <td>199.0</td>\n    </tr>\n  </tbody>\n</table>\n<p>792 rows × 7 columns</p>\n</div>"
     },
     "execution_count": 220,
     "metadata": {},
     "output_type": "execute_result"
    }
   ],
   "source": [
    "cube_pickups.groupby(axis=1, level=0).sum()"
   ],
   "metadata": {
    "collapsed": false,
    "pycharm": {
     "name": "#%%\n"
    }
   }
  },
  {
   "cell_type": "code",
   "execution_count": 221,
   "outputs": [
    {
     "data": {
      "text/plain": "         Bronx   Brooklyn      EWR   Manhattan     Queens  Staten Island  \\\nyear                                                                       \n2020  603355.0  1210891.0  15114.0  11261411.0  1323353.0       301312.0   \n2021  699664.0  1996043.0  65448.0  28341978.0  2470769.0       334528.0   \n2022  192194.0   801816.0  31380.0  11743677.0   984506.0        95666.0   \n\n      undefined  \nyear             \n2020    64789.0  \n2021    96506.0  \n2022    20223.0  ",
      "text/html": "<div>\n<style scoped>\n    .dataframe tbody tr th:only-of-type {\n        vertical-align: middle;\n    }\n\n    .dataframe tbody tr th {\n        vertical-align: top;\n    }\n\n    .dataframe thead th {\n        text-align: right;\n    }\n</style>\n<table border=\"1\" class=\"dataframe\">\n  <thead>\n    <tr style=\"text-align: right;\">\n      <th></th>\n      <th>Bronx</th>\n      <th>Brooklyn</th>\n      <th>EWR</th>\n      <th>Manhattan</th>\n      <th>Queens</th>\n      <th>Staten Island</th>\n      <th>undefined</th>\n    </tr>\n    <tr>\n      <th>year</th>\n      <th></th>\n      <th></th>\n      <th></th>\n      <th></th>\n      <th></th>\n      <th></th>\n      <th></th>\n    </tr>\n  </thead>\n  <tbody>\n    <tr>\n      <th>2020</th>\n      <td>603355.0</td>\n      <td>1210891.0</td>\n      <td>15114.0</td>\n      <td>11261411.0</td>\n      <td>1323353.0</td>\n      <td>301312.0</td>\n      <td>64789.0</td>\n    </tr>\n    <tr>\n      <th>2021</th>\n      <td>699664.0</td>\n      <td>1996043.0</td>\n      <td>65448.0</td>\n      <td>28341978.0</td>\n      <td>2470769.0</td>\n      <td>334528.0</td>\n      <td>96506.0</td>\n    </tr>\n    <tr>\n      <th>2022</th>\n      <td>192194.0</td>\n      <td>801816.0</td>\n      <td>31380.0</td>\n      <td>11743677.0</td>\n      <td>984506.0</td>\n      <td>95666.0</td>\n      <td>20223.0</td>\n    </tr>\n  </tbody>\n</table>\n</div>"
     },
     "execution_count": 221,
     "metadata": {},
     "output_type": "execute_result"
    }
   ],
   "source": [
    "cube_pickups.groupby(axis=0, level=0).sum().groupby(axis=1, level=0).sum()"
   ],
   "metadata": {
    "collapsed": false,
    "pycharm": {
     "name": "#%%\n"
    }
   }
  },
  {
   "cell_type": "code",
   "execution_count": 1,
   "outputs": [],
   "source": [
    "from analysis import gen_cube\n",
    "import pandas as pd\n",
    "taxi_facts = pd.read_csv('data/clean/df_taxi_facts.csv')\n",
    "covid = pd.read_csv('data/clean/covid.csv')\n",
    "\n",
    "cov_facts = taxi_facts.merge(covid[['CID', 'case_count']])\n",
    "c_pickup = gen_cube(taxi_facts, 'pickups', 'sum')\n",
    "c_dropoffs = gen_cube(taxi_facts, 'dropoffs', 'sum')\n",
    "c_distances = gen_cube(taxi_facts, 'trip_distance', 'mean')\n",
    "c_cov_cases = gen_cube(cov_facts, 'case_count', 'sum')"
   ],
   "metadata": {
    "collapsed": false,
    "pycharm": {
     "name": "#%%\n"
    }
   }
  },
  {
   "cell_type": "code",
   "execution_count": 29,
   "outputs": [
    {
     "data": {
      "text/plain": "               Bronx                                                       \\\n                 3     20    31    32   46     47     51   58   59    60    \nyear month day                                                              \n2020 2     29   28.0  17.0   9.0  30.0  6.0   70.0  105.0  4.0  2.0  30.0   \n     3     1    29.0  17.0  11.0  34.0  2.0   44.0  112.0  2.0  1.0  35.0   \n           2    51.0  73.0  13.0  67.0  6.0   91.0  149.0  5.0  2.0  48.0   \n           3    62.0  75.0   7.0  70.0  7.0  112.0  169.0  7.0  5.0  58.0   \n           4    66.0  68.0   7.0  85.0  6.0  116.0  172.0  7.0  4.0  57.0   \n...              ...   ...   ...   ...  ...    ...    ...  ...  ...   ...   \n2022 4     26   16.0  20.0   7.0  18.0  0.0   27.0   33.0  1.0  3.0  23.0   \n           27   20.0  25.0   7.0  24.0  2.0   38.0   56.0  2.0  1.0  11.0   \n           28   23.0  21.0   7.0  25.0  2.0   38.0   53.0  0.0  2.0  21.0   \n           29   17.0  20.0   2.0  24.0  5.0   42.0   50.0  1.0  3.0  18.0   \n           30    7.0  13.0   8.0  14.0  2.0   15.0   18.0  1.0  0.0  12.0   \n\n                ... Staten Island              undefined                    \\\n                ...           221    245   251       18    81    102   205   \nyear month day  ...                                                          \n2020 2     29   ...         145.0   45.0  18.0      33.0  26.0  15.0  33.0   \n     3     1    ...         409.0   70.0  20.0      28.0  26.0  12.0  40.0   \n           2    ...         505.0   96.0  43.0      34.0  35.0  23.0  66.0   \n           3    ...         517.0   78.0  37.0      58.0  21.0  15.0  73.0   \n           4    ...         478.0   85.0  42.0      45.0  38.0  18.0  67.0   \n...             ...           ...    ...   ...       ...   ...   ...   ...   \n2022 4     26   ...         146.0  111.0  57.0      10.0   4.0   0.0   7.0   \n           27   ...         152.0   80.0  80.0       3.0   2.0   3.0   7.0   \n           28   ...         144.0   77.0  57.0       3.0   6.0   2.0   9.0   \n           29   ...         158.0   87.0  59.0       4.0   5.0   3.0   3.0   \n           30   ...         105.0   49.0  29.0      11.0   2.0   1.0   2.0   \n\n                                  \n                 208   213   220  \nyear month day                    \n2020 2     29   22.0  55.0  32.0  \n     3     1    17.0  59.0  21.0  \n           2    34.0  76.0  28.0  \n           3    32.0  73.0  31.0  \n           4    33.0  88.0  33.0  \n...              ...   ...   ...  \n2022 4     26    1.0   5.0   3.0  \n           27    4.0   8.0   3.0  \n           28    8.0   4.0   3.0  \n           29    4.0   9.0   6.0  \n           30    3.0   7.0   6.0  \n\n[792 rows x 262 columns]",
      "text/html": "<div>\n<style scoped>\n    .dataframe tbody tr th:only-of-type {\n        vertical-align: middle;\n    }\n\n    .dataframe tbody tr th {\n        vertical-align: top;\n    }\n\n    .dataframe thead tr th {\n        text-align: left;\n    }\n\n    .dataframe thead tr:last-of-type th {\n        text-align: right;\n    }\n</style>\n<table border=\"1\" class=\"dataframe\">\n  <thead>\n    <tr>\n      <th></th>\n      <th></th>\n      <th></th>\n      <th colspan=\"10\" halign=\"left\">Bronx</th>\n      <th>...</th>\n      <th colspan=\"3\" halign=\"left\">Staten Island</th>\n      <th colspan=\"7\" halign=\"left\">undefined</th>\n    </tr>\n    <tr>\n      <th></th>\n      <th></th>\n      <th></th>\n      <th>3</th>\n      <th>20</th>\n      <th>31</th>\n      <th>32</th>\n      <th>46</th>\n      <th>47</th>\n      <th>51</th>\n      <th>58</th>\n      <th>59</th>\n      <th>60</th>\n      <th>...</th>\n      <th>221</th>\n      <th>245</th>\n      <th>251</th>\n      <th>18</th>\n      <th>81</th>\n      <th>102</th>\n      <th>205</th>\n      <th>208</th>\n      <th>213</th>\n      <th>220</th>\n    </tr>\n    <tr>\n      <th>year</th>\n      <th>month</th>\n      <th>day</th>\n      <th></th>\n      <th></th>\n      <th></th>\n      <th></th>\n      <th></th>\n      <th></th>\n      <th></th>\n      <th></th>\n      <th></th>\n      <th></th>\n      <th></th>\n      <th></th>\n      <th></th>\n      <th></th>\n      <th></th>\n      <th></th>\n      <th></th>\n      <th></th>\n      <th></th>\n      <th></th>\n      <th></th>\n    </tr>\n  </thead>\n  <tbody>\n    <tr>\n      <th rowspan=\"5\" valign=\"top\">2020</th>\n      <th>2</th>\n      <th>29</th>\n      <td>28.0</td>\n      <td>17.0</td>\n      <td>9.0</td>\n      <td>30.0</td>\n      <td>6.0</td>\n      <td>70.0</td>\n      <td>105.0</td>\n      <td>4.0</td>\n      <td>2.0</td>\n      <td>30.0</td>\n      <td>...</td>\n      <td>145.0</td>\n      <td>45.0</td>\n      <td>18.0</td>\n      <td>33.0</td>\n      <td>26.0</td>\n      <td>15.0</td>\n      <td>33.0</td>\n      <td>22.0</td>\n      <td>55.0</td>\n      <td>32.0</td>\n    </tr>\n    <tr>\n      <th rowspan=\"4\" valign=\"top\">3</th>\n      <th>1</th>\n      <td>29.0</td>\n      <td>17.0</td>\n      <td>11.0</td>\n      <td>34.0</td>\n      <td>2.0</td>\n      <td>44.0</td>\n      <td>112.0</td>\n      <td>2.0</td>\n      <td>1.0</td>\n      <td>35.0</td>\n      <td>...</td>\n      <td>409.0</td>\n      <td>70.0</td>\n      <td>20.0</td>\n      <td>28.0</td>\n      <td>26.0</td>\n      <td>12.0</td>\n      <td>40.0</td>\n      <td>17.0</td>\n      <td>59.0</td>\n      <td>21.0</td>\n    </tr>\n    <tr>\n      <th>2</th>\n      <td>51.0</td>\n      <td>73.0</td>\n      <td>13.0</td>\n      <td>67.0</td>\n      <td>6.0</td>\n      <td>91.0</td>\n      <td>149.0</td>\n      <td>5.0</td>\n      <td>2.0</td>\n      <td>48.0</td>\n      <td>...</td>\n      <td>505.0</td>\n      <td>96.0</td>\n      <td>43.0</td>\n      <td>34.0</td>\n      <td>35.0</td>\n      <td>23.0</td>\n      <td>66.0</td>\n      <td>34.0</td>\n      <td>76.0</td>\n      <td>28.0</td>\n    </tr>\n    <tr>\n      <th>3</th>\n      <td>62.0</td>\n      <td>75.0</td>\n      <td>7.0</td>\n      <td>70.0</td>\n      <td>7.0</td>\n      <td>112.0</td>\n      <td>169.0</td>\n      <td>7.0</td>\n      <td>5.0</td>\n      <td>58.0</td>\n      <td>...</td>\n      <td>517.0</td>\n      <td>78.0</td>\n      <td>37.0</td>\n      <td>58.0</td>\n      <td>21.0</td>\n      <td>15.0</td>\n      <td>73.0</td>\n      <td>32.0</td>\n      <td>73.0</td>\n      <td>31.0</td>\n    </tr>\n    <tr>\n      <th>4</th>\n      <td>66.0</td>\n      <td>68.0</td>\n      <td>7.0</td>\n      <td>85.0</td>\n      <td>6.0</td>\n      <td>116.0</td>\n      <td>172.0</td>\n      <td>7.0</td>\n      <td>4.0</td>\n      <td>57.0</td>\n      <td>...</td>\n      <td>478.0</td>\n      <td>85.0</td>\n      <td>42.0</td>\n      <td>45.0</td>\n      <td>38.0</td>\n      <td>18.0</td>\n      <td>67.0</td>\n      <td>33.0</td>\n      <td>88.0</td>\n      <td>33.0</td>\n    </tr>\n    <tr>\n      <th>...</th>\n      <th>...</th>\n      <th>...</th>\n      <td>...</td>\n      <td>...</td>\n      <td>...</td>\n      <td>...</td>\n      <td>...</td>\n      <td>...</td>\n      <td>...</td>\n      <td>...</td>\n      <td>...</td>\n      <td>...</td>\n      <td>...</td>\n      <td>...</td>\n      <td>...</td>\n      <td>...</td>\n      <td>...</td>\n      <td>...</td>\n      <td>...</td>\n      <td>...</td>\n      <td>...</td>\n      <td>...</td>\n      <td>...</td>\n    </tr>\n    <tr>\n      <th rowspan=\"5\" valign=\"top\">2022</th>\n      <th rowspan=\"5\" valign=\"top\">4</th>\n      <th>26</th>\n      <td>16.0</td>\n      <td>20.0</td>\n      <td>7.0</td>\n      <td>18.0</td>\n      <td>0.0</td>\n      <td>27.0</td>\n      <td>33.0</td>\n      <td>1.0</td>\n      <td>3.0</td>\n      <td>23.0</td>\n      <td>...</td>\n      <td>146.0</td>\n      <td>111.0</td>\n      <td>57.0</td>\n      <td>10.0</td>\n      <td>4.0</td>\n      <td>0.0</td>\n      <td>7.0</td>\n      <td>1.0</td>\n      <td>5.0</td>\n      <td>3.0</td>\n    </tr>\n    <tr>\n      <th>27</th>\n      <td>20.0</td>\n      <td>25.0</td>\n      <td>7.0</td>\n      <td>24.0</td>\n      <td>2.0</td>\n      <td>38.0</td>\n      <td>56.0</td>\n      <td>2.0</td>\n      <td>1.0</td>\n      <td>11.0</td>\n      <td>...</td>\n      <td>152.0</td>\n      <td>80.0</td>\n      <td>80.0</td>\n      <td>3.0</td>\n      <td>2.0</td>\n      <td>3.0</td>\n      <td>7.0</td>\n      <td>4.0</td>\n      <td>8.0</td>\n      <td>3.0</td>\n    </tr>\n    <tr>\n      <th>28</th>\n      <td>23.0</td>\n      <td>21.0</td>\n      <td>7.0</td>\n      <td>25.0</td>\n      <td>2.0</td>\n      <td>38.0</td>\n      <td>53.0</td>\n      <td>0.0</td>\n      <td>2.0</td>\n      <td>21.0</td>\n      <td>...</td>\n      <td>144.0</td>\n      <td>77.0</td>\n      <td>57.0</td>\n      <td>3.0</td>\n      <td>6.0</td>\n      <td>2.0</td>\n      <td>9.0</td>\n      <td>8.0</td>\n      <td>4.0</td>\n      <td>3.0</td>\n    </tr>\n    <tr>\n      <th>29</th>\n      <td>17.0</td>\n      <td>20.0</td>\n      <td>2.0</td>\n      <td>24.0</td>\n      <td>5.0</td>\n      <td>42.0</td>\n      <td>50.0</td>\n      <td>1.0</td>\n      <td>3.0</td>\n      <td>18.0</td>\n      <td>...</td>\n      <td>158.0</td>\n      <td>87.0</td>\n      <td>59.0</td>\n      <td>4.0</td>\n      <td>5.0</td>\n      <td>3.0</td>\n      <td>3.0</td>\n      <td>4.0</td>\n      <td>9.0</td>\n      <td>6.0</td>\n    </tr>\n    <tr>\n      <th>30</th>\n      <td>7.0</td>\n      <td>13.0</td>\n      <td>8.0</td>\n      <td>14.0</td>\n      <td>2.0</td>\n      <td>15.0</td>\n      <td>18.0</td>\n      <td>1.0</td>\n      <td>0.0</td>\n      <td>12.0</td>\n      <td>...</td>\n      <td>105.0</td>\n      <td>49.0</td>\n      <td>29.0</td>\n      <td>11.0</td>\n      <td>2.0</td>\n      <td>1.0</td>\n      <td>2.0</td>\n      <td>3.0</td>\n      <td>7.0</td>\n      <td>6.0</td>\n    </tr>\n  </tbody>\n</table>\n<p>792 rows × 262 columns</p>\n</div>"
     },
     "execution_count": 29,
     "metadata": {},
     "output_type": "execute_result"
    }
   ],
   "source": [
    "c_pickup"
   ],
   "metadata": {
    "collapsed": false,
    "pycharm": {
     "name": "#%%\n"
    }
   }
  },
  {
   "cell_type": "markdown",
   "source": [],
   "metadata": {
    "collapsed": false,
    "pycharm": {
     "name": "#%% md\n"
    }
   }
  },
  {
   "cell_type": "code",
   "execution_count": 30,
   "outputs": [
    {
     "data": {
      "text/plain": "                Bronx                                                          \\\n                  3      20    31    32    46     47     51    58   59    60    \nyear month day                                                                  \n2020 2     29    28.0   57.0  20.0  47.0   9.0   98.0  140.0   7.0  4.0  57.0   \n     3     1     35.0   37.0  13.0  39.0   4.0   65.0  135.0   6.0  4.0  53.0   \n           2     68.0   92.0  19.0  91.0   9.0  125.0  186.0  10.0  6.0  74.0   \n           3     66.0  100.0  18.0  86.0  11.0  124.0  183.0  13.0  9.0  72.0   \n           4    100.0   85.0  28.0  96.0   9.0  146.0  176.0  10.0  8.0  66.0   \n...               ...    ...   ...   ...   ...    ...    ...   ...  ...   ...   \n2022 4     26    18.0   24.0  10.0  28.0   4.0   49.0   66.0   2.0  1.0  30.0   \n           27    35.0   42.0  10.0  32.0   4.0   48.0   75.0   3.0  1.0  29.0   \n           28    40.0   23.0  13.0  37.0   5.0   44.0   77.0   2.0  2.0  33.0   \n           29    27.0   35.0  10.0  37.0   4.0   50.0   72.0   5.0  1.0  36.0   \n           30    18.0   34.0  41.0  24.0   9.0   28.0   39.0   6.0  3.0  20.0   \n\n                ... Staten Island              undefined                     \\\n                ...           221    245   251       18    81    102    205   \nyear month day  ...                                                           \n2020 2     29   ...         240.0   80.0  44.0      72.0  32.0  65.0   93.0   \n     3     1    ...         259.0   72.0  25.0      63.0  31.0  60.0   86.0   \n           2    ...         281.0  117.0  49.0      62.0  38.0  53.0  102.0   \n           3    ...         310.0  102.0  61.0      72.0  41.0  51.0  113.0   \n           4    ...         289.0  117.0  57.0      79.0  52.0  64.0  137.0   \n...             ...           ...    ...   ...       ...   ...   ...    ...   \n2022 4     26   ...         130.0  101.0  59.0      24.0   7.0  28.0   46.0   \n           27   ...         126.0   93.0  80.0      25.0   7.0  22.0   34.0   \n           28   ...         106.0   85.0  71.0      33.0  13.0  20.0   40.0   \n           29   ...         130.0  101.0  67.0      31.0  14.0  29.0   34.0   \n           30   ...          89.0   40.0  33.0      23.0   7.0  24.0   28.0   \n\n                                    \n                 208    213    220  \nyear month day                      \n2020 2     29   48.0   86.0  158.0  \n     3     1    40.0   98.0  111.0  \n           2    60.0  102.0  123.0  \n           3    65.0   99.0  126.0  \n           4    56.0  101.0  141.0  \n...              ...    ...    ...  \n2022 4     26   21.0   24.0   51.0  \n           27   16.0   27.0   59.0  \n           28   20.0   30.0   56.0  \n           29   18.0   26.0   51.0  \n           30   17.0   40.0   60.0  \n\n[792 rows x 262 columns]",
      "text/html": "<div>\n<style scoped>\n    .dataframe tbody tr th:only-of-type {\n        vertical-align: middle;\n    }\n\n    .dataframe tbody tr th {\n        vertical-align: top;\n    }\n\n    .dataframe thead tr th {\n        text-align: left;\n    }\n\n    .dataframe thead tr:last-of-type th {\n        text-align: right;\n    }\n</style>\n<table border=\"1\" class=\"dataframe\">\n  <thead>\n    <tr>\n      <th></th>\n      <th></th>\n      <th></th>\n      <th colspan=\"10\" halign=\"left\">Bronx</th>\n      <th>...</th>\n      <th colspan=\"3\" halign=\"left\">Staten Island</th>\n      <th colspan=\"7\" halign=\"left\">undefined</th>\n    </tr>\n    <tr>\n      <th></th>\n      <th></th>\n      <th></th>\n      <th>3</th>\n      <th>20</th>\n      <th>31</th>\n      <th>32</th>\n      <th>46</th>\n      <th>47</th>\n      <th>51</th>\n      <th>58</th>\n      <th>59</th>\n      <th>60</th>\n      <th>...</th>\n      <th>221</th>\n      <th>245</th>\n      <th>251</th>\n      <th>18</th>\n      <th>81</th>\n      <th>102</th>\n      <th>205</th>\n      <th>208</th>\n      <th>213</th>\n      <th>220</th>\n    </tr>\n    <tr>\n      <th>year</th>\n      <th>month</th>\n      <th>day</th>\n      <th></th>\n      <th></th>\n      <th></th>\n      <th></th>\n      <th></th>\n      <th></th>\n      <th></th>\n      <th></th>\n      <th></th>\n      <th></th>\n      <th></th>\n      <th></th>\n      <th></th>\n      <th></th>\n      <th></th>\n      <th></th>\n      <th></th>\n      <th></th>\n      <th></th>\n      <th></th>\n      <th></th>\n    </tr>\n  </thead>\n  <tbody>\n    <tr>\n      <th rowspan=\"5\" valign=\"top\">2020</th>\n      <th>2</th>\n      <th>29</th>\n      <td>28.0</td>\n      <td>57.0</td>\n      <td>20.0</td>\n      <td>47.0</td>\n      <td>9.0</td>\n      <td>98.0</td>\n      <td>140.0</td>\n      <td>7.0</td>\n      <td>4.0</td>\n      <td>57.0</td>\n      <td>...</td>\n      <td>240.0</td>\n      <td>80.0</td>\n      <td>44.0</td>\n      <td>72.0</td>\n      <td>32.0</td>\n      <td>65.0</td>\n      <td>93.0</td>\n      <td>48.0</td>\n      <td>86.0</td>\n      <td>158.0</td>\n    </tr>\n    <tr>\n      <th rowspan=\"4\" valign=\"top\">3</th>\n      <th>1</th>\n      <td>35.0</td>\n      <td>37.0</td>\n      <td>13.0</td>\n      <td>39.0</td>\n      <td>4.0</td>\n      <td>65.0</td>\n      <td>135.0</td>\n      <td>6.0</td>\n      <td>4.0</td>\n      <td>53.0</td>\n      <td>...</td>\n      <td>259.0</td>\n      <td>72.0</td>\n      <td>25.0</td>\n      <td>63.0</td>\n      <td>31.0</td>\n      <td>60.0</td>\n      <td>86.0</td>\n      <td>40.0</td>\n      <td>98.0</td>\n      <td>111.0</td>\n    </tr>\n    <tr>\n      <th>2</th>\n      <td>68.0</td>\n      <td>92.0</td>\n      <td>19.0</td>\n      <td>91.0</td>\n      <td>9.0</td>\n      <td>125.0</td>\n      <td>186.0</td>\n      <td>10.0</td>\n      <td>6.0</td>\n      <td>74.0</td>\n      <td>...</td>\n      <td>281.0</td>\n      <td>117.0</td>\n      <td>49.0</td>\n      <td>62.0</td>\n      <td>38.0</td>\n      <td>53.0</td>\n      <td>102.0</td>\n      <td>60.0</td>\n      <td>102.0</td>\n      <td>123.0</td>\n    </tr>\n    <tr>\n      <th>3</th>\n      <td>66.0</td>\n      <td>100.0</td>\n      <td>18.0</td>\n      <td>86.0</td>\n      <td>11.0</td>\n      <td>124.0</td>\n      <td>183.0</td>\n      <td>13.0</td>\n      <td>9.0</td>\n      <td>72.0</td>\n      <td>...</td>\n      <td>310.0</td>\n      <td>102.0</td>\n      <td>61.0</td>\n      <td>72.0</td>\n      <td>41.0</td>\n      <td>51.0</td>\n      <td>113.0</td>\n      <td>65.0</td>\n      <td>99.0</td>\n      <td>126.0</td>\n    </tr>\n    <tr>\n      <th>4</th>\n      <td>100.0</td>\n      <td>85.0</td>\n      <td>28.0</td>\n      <td>96.0</td>\n      <td>9.0</td>\n      <td>146.0</td>\n      <td>176.0</td>\n      <td>10.0</td>\n      <td>8.0</td>\n      <td>66.0</td>\n      <td>...</td>\n      <td>289.0</td>\n      <td>117.0</td>\n      <td>57.0</td>\n      <td>79.0</td>\n      <td>52.0</td>\n      <td>64.0</td>\n      <td>137.0</td>\n      <td>56.0</td>\n      <td>101.0</td>\n      <td>141.0</td>\n    </tr>\n    <tr>\n      <th>...</th>\n      <th>...</th>\n      <th>...</th>\n      <td>...</td>\n      <td>...</td>\n      <td>...</td>\n      <td>...</td>\n      <td>...</td>\n      <td>...</td>\n      <td>...</td>\n      <td>...</td>\n      <td>...</td>\n      <td>...</td>\n      <td>...</td>\n      <td>...</td>\n      <td>...</td>\n      <td>...</td>\n      <td>...</td>\n      <td>...</td>\n      <td>...</td>\n      <td>...</td>\n      <td>...</td>\n      <td>...</td>\n      <td>...</td>\n    </tr>\n    <tr>\n      <th rowspan=\"5\" valign=\"top\">2022</th>\n      <th rowspan=\"5\" valign=\"top\">4</th>\n      <th>26</th>\n      <td>18.0</td>\n      <td>24.0</td>\n      <td>10.0</td>\n      <td>28.0</td>\n      <td>4.0</td>\n      <td>49.0</td>\n      <td>66.0</td>\n      <td>2.0</td>\n      <td>1.0</td>\n      <td>30.0</td>\n      <td>...</td>\n      <td>130.0</td>\n      <td>101.0</td>\n      <td>59.0</td>\n      <td>24.0</td>\n      <td>7.0</td>\n      <td>28.0</td>\n      <td>46.0</td>\n      <td>21.0</td>\n      <td>24.0</td>\n      <td>51.0</td>\n    </tr>\n    <tr>\n      <th>27</th>\n      <td>35.0</td>\n      <td>42.0</td>\n      <td>10.0</td>\n      <td>32.0</td>\n      <td>4.0</td>\n      <td>48.0</td>\n      <td>75.0</td>\n      <td>3.0</td>\n      <td>1.0</td>\n      <td>29.0</td>\n      <td>...</td>\n      <td>126.0</td>\n      <td>93.0</td>\n      <td>80.0</td>\n      <td>25.0</td>\n      <td>7.0</td>\n      <td>22.0</td>\n      <td>34.0</td>\n      <td>16.0</td>\n      <td>27.0</td>\n      <td>59.0</td>\n    </tr>\n    <tr>\n      <th>28</th>\n      <td>40.0</td>\n      <td>23.0</td>\n      <td>13.0</td>\n      <td>37.0</td>\n      <td>5.0</td>\n      <td>44.0</td>\n      <td>77.0</td>\n      <td>2.0</td>\n      <td>2.0</td>\n      <td>33.0</td>\n      <td>...</td>\n      <td>106.0</td>\n      <td>85.0</td>\n      <td>71.0</td>\n      <td>33.0</td>\n      <td>13.0</td>\n      <td>20.0</td>\n      <td>40.0</td>\n      <td>20.0</td>\n      <td>30.0</td>\n      <td>56.0</td>\n    </tr>\n    <tr>\n      <th>29</th>\n      <td>27.0</td>\n      <td>35.0</td>\n      <td>10.0</td>\n      <td>37.0</td>\n      <td>4.0</td>\n      <td>50.0</td>\n      <td>72.0</td>\n      <td>5.0</td>\n      <td>1.0</td>\n      <td>36.0</td>\n      <td>...</td>\n      <td>130.0</td>\n      <td>101.0</td>\n      <td>67.0</td>\n      <td>31.0</td>\n      <td>14.0</td>\n      <td>29.0</td>\n      <td>34.0</td>\n      <td>18.0</td>\n      <td>26.0</td>\n      <td>51.0</td>\n    </tr>\n    <tr>\n      <th>30</th>\n      <td>18.0</td>\n      <td>34.0</td>\n      <td>41.0</td>\n      <td>24.0</td>\n      <td>9.0</td>\n      <td>28.0</td>\n      <td>39.0</td>\n      <td>6.0</td>\n      <td>3.0</td>\n      <td>20.0</td>\n      <td>...</td>\n      <td>89.0</td>\n      <td>40.0</td>\n      <td>33.0</td>\n      <td>23.0</td>\n      <td>7.0</td>\n      <td>24.0</td>\n      <td>28.0</td>\n      <td>17.0</td>\n      <td>40.0</td>\n      <td>60.0</td>\n    </tr>\n  </tbody>\n</table>\n<p>792 rows × 262 columns</p>\n</div>"
     },
     "execution_count": 30,
     "metadata": {},
     "output_type": "execute_result"
    }
   ],
   "source": [
    "c_dropoffs"
   ],
   "metadata": {
    "collapsed": false,
    "pycharm": {
     "name": "#%%\n"
    }
   }
  },
  {
   "cell_type": "code",
   "execution_count": 31,
   "outputs": [
    {
     "data": {
      "text/plain": "                    Bronx                                              \\\n                      3          20         31         32         46    \nyear month day                                                          \n2020 2     29    6.752974   6.752974   6.752974   6.752974   6.752974   \n     3     1     4.437438   4.437438   4.437438   4.437438   4.437438   \n           2     4.352602   4.352602   4.352602   4.352602   4.352602   \n           3     5.152849   5.152849   5.152849   5.152849   5.152849   \n           4     7.617369   7.617369   7.617369   7.617369   7.617369   \n...                   ...        ...        ...        ...        ...   \n2022 4     26   12.864473  12.864473   7.633822  12.864473   8.389263   \n           27    5.382056  89.130133  89.130133   5.382056   5.382056   \n           28   30.857413  30.857413  30.857413   7.266788   7.266788   \n           29   64.088870  64.088870  64.088870  64.088870   8.019914   \n           30    5.680668  36.161326  36.161326  36.161326  36.161326   \n\n                                                                     ...  \\\n                      47         51        58        59         60   ...   \nyear month day                                                       ...   \n2020 2     29    6.752974   6.752974  6.752974  4.452069   6.752974  ...   \n     3     1     4.437438   4.437438  4.437438  4.437438   4.437438  ...   \n           2     4.352602   4.352602  4.352602  4.352602   4.352602  ...   \n           3     5.152849   5.152849  5.152849  5.749284   5.152849  ...   \n           4     7.617369   7.617369  7.617369  7.617369   7.617369  ...   \n...                   ...        ...       ...       ...        ...  ...   \n2022 4     26   12.864473  12.864473  7.633822  6.878380  12.864473  ...   \n           27   89.130133  89.130133  5.382056  6.901912  89.130133  ...   \n           28   30.857413  30.857413  7.266788  7.009232  30.857413  ...   \n           29   64.088870  64.088870  8.019914  6.716582  64.088870  ...   \n           30   36.161326  36.161326  5.680668  5.680668  36.161326  ...   \n\n               Staten Island                       undefined              \\\n                         221       245       251         18          81    \nyear month day                                                             \n2020 2     29       6.752974  4.452069  4.452069    7.004084    7.004084   \n     3     1        4.922083  6.464377  4.922083    3.423969    3.423969   \n           2        4.824271  4.824271  4.824271    3.211679    3.211679   \n           3        5.333331  5.333331  5.333331    4.375933    4.375933   \n           4        4.708832  4.708832  7.617369    8.110295    8.110295   \n...                      ...       ...       ...         ...         ...   \n2022 4     26       7.633822  7.633822  7.633822   15.857519   15.857519   \n           27       5.382056  5.382056  5.382056  130.244244  130.244244   \n           28       7.266788  7.266788  7.266788   42.781504   42.781504   \n           29      64.088870  6.716582  8.019914   92.775015   92.775015   \n           30       5.680668  6.490900  5.680668   50.996540    4.870435   \n\n                                                                            \n                       102         205         208         213         220  \nyear month day                                                              \n2020 2     29     7.004084    7.004084    7.004084    7.004084    7.004084  \n     3     1      3.423969    3.423969    3.423969    3.423969    3.423969  \n           2      3.211679    3.211679    3.211679    3.211679    3.211679  \n           3      4.375933    4.375933    4.375933    4.375933    4.375933  \n           4      8.110295    8.110295    8.110295    8.110295    8.110295  \n...                    ...         ...         ...         ...         ...  \n2022 4     26    15.857519   15.857519   15.857519    8.389263   15.857519  \n           27   130.244244  130.244244  130.244244  130.244244  130.244244  \n           28    42.781504   42.781504   42.781504   42.781504   42.781504  \n           29    92.775015   92.775015   92.775015   92.775015   92.775015  \n           30    50.996540   50.996540    4.870435   50.996540   50.996540  \n\n[792 rows x 262 columns]",
      "text/html": "<div>\n<style scoped>\n    .dataframe tbody tr th:only-of-type {\n        vertical-align: middle;\n    }\n\n    .dataframe tbody tr th {\n        vertical-align: top;\n    }\n\n    .dataframe thead tr th {\n        text-align: left;\n    }\n\n    .dataframe thead tr:last-of-type th {\n        text-align: right;\n    }\n</style>\n<table border=\"1\" class=\"dataframe\">\n  <thead>\n    <tr>\n      <th></th>\n      <th></th>\n      <th></th>\n      <th colspan=\"10\" halign=\"left\">Bronx</th>\n      <th>...</th>\n      <th colspan=\"3\" halign=\"left\">Staten Island</th>\n      <th colspan=\"7\" halign=\"left\">undefined</th>\n    </tr>\n    <tr>\n      <th></th>\n      <th></th>\n      <th></th>\n      <th>3</th>\n      <th>20</th>\n      <th>31</th>\n      <th>32</th>\n      <th>46</th>\n      <th>47</th>\n      <th>51</th>\n      <th>58</th>\n      <th>59</th>\n      <th>60</th>\n      <th>...</th>\n      <th>221</th>\n      <th>245</th>\n      <th>251</th>\n      <th>18</th>\n      <th>81</th>\n      <th>102</th>\n      <th>205</th>\n      <th>208</th>\n      <th>213</th>\n      <th>220</th>\n    </tr>\n    <tr>\n      <th>year</th>\n      <th>month</th>\n      <th>day</th>\n      <th></th>\n      <th></th>\n      <th></th>\n      <th></th>\n      <th></th>\n      <th></th>\n      <th></th>\n      <th></th>\n      <th></th>\n      <th></th>\n      <th></th>\n      <th></th>\n      <th></th>\n      <th></th>\n      <th></th>\n      <th></th>\n      <th></th>\n      <th></th>\n      <th></th>\n      <th></th>\n      <th></th>\n    </tr>\n  </thead>\n  <tbody>\n    <tr>\n      <th rowspan=\"5\" valign=\"top\">2020</th>\n      <th>2</th>\n      <th>29</th>\n      <td>6.752974</td>\n      <td>6.752974</td>\n      <td>6.752974</td>\n      <td>6.752974</td>\n      <td>6.752974</td>\n      <td>6.752974</td>\n      <td>6.752974</td>\n      <td>6.752974</td>\n      <td>4.452069</td>\n      <td>6.752974</td>\n      <td>...</td>\n      <td>6.752974</td>\n      <td>4.452069</td>\n      <td>4.452069</td>\n      <td>7.004084</td>\n      <td>7.004084</td>\n      <td>7.004084</td>\n      <td>7.004084</td>\n      <td>7.004084</td>\n      <td>7.004084</td>\n      <td>7.004084</td>\n    </tr>\n    <tr>\n      <th rowspan=\"4\" valign=\"top\">3</th>\n      <th>1</th>\n      <td>4.437438</td>\n      <td>4.437438</td>\n      <td>4.437438</td>\n      <td>4.437438</td>\n      <td>4.437438</td>\n      <td>4.437438</td>\n      <td>4.437438</td>\n      <td>4.437438</td>\n      <td>4.437438</td>\n      <td>4.437438</td>\n      <td>...</td>\n      <td>4.922083</td>\n      <td>6.464377</td>\n      <td>4.922083</td>\n      <td>3.423969</td>\n      <td>3.423969</td>\n      <td>3.423969</td>\n      <td>3.423969</td>\n      <td>3.423969</td>\n      <td>3.423969</td>\n      <td>3.423969</td>\n    </tr>\n    <tr>\n      <th>2</th>\n      <td>4.352602</td>\n      <td>4.352602</td>\n      <td>4.352602</td>\n      <td>4.352602</td>\n      <td>4.352602</td>\n      <td>4.352602</td>\n      <td>4.352602</td>\n      <td>4.352602</td>\n      <td>4.352602</td>\n      <td>4.352602</td>\n      <td>...</td>\n      <td>4.824271</td>\n      <td>4.824271</td>\n      <td>4.824271</td>\n      <td>3.211679</td>\n      <td>3.211679</td>\n      <td>3.211679</td>\n      <td>3.211679</td>\n      <td>3.211679</td>\n      <td>3.211679</td>\n      <td>3.211679</td>\n    </tr>\n    <tr>\n      <th>3</th>\n      <td>5.152849</td>\n      <td>5.152849</td>\n      <td>5.152849</td>\n      <td>5.152849</td>\n      <td>5.152849</td>\n      <td>5.152849</td>\n      <td>5.152849</td>\n      <td>5.152849</td>\n      <td>5.749284</td>\n      <td>5.152849</td>\n      <td>...</td>\n      <td>5.333331</td>\n      <td>5.333331</td>\n      <td>5.333331</td>\n      <td>4.375933</td>\n      <td>4.375933</td>\n      <td>4.375933</td>\n      <td>4.375933</td>\n      <td>4.375933</td>\n      <td>4.375933</td>\n      <td>4.375933</td>\n    </tr>\n    <tr>\n      <th>4</th>\n      <td>7.617369</td>\n      <td>7.617369</td>\n      <td>7.617369</td>\n      <td>7.617369</td>\n      <td>7.617369</td>\n      <td>7.617369</td>\n      <td>7.617369</td>\n      <td>7.617369</td>\n      <td>7.617369</td>\n      <td>7.617369</td>\n      <td>...</td>\n      <td>4.708832</td>\n      <td>4.708832</td>\n      <td>7.617369</td>\n      <td>8.110295</td>\n      <td>8.110295</td>\n      <td>8.110295</td>\n      <td>8.110295</td>\n      <td>8.110295</td>\n      <td>8.110295</td>\n      <td>8.110295</td>\n    </tr>\n    <tr>\n      <th>...</th>\n      <th>...</th>\n      <th>...</th>\n      <td>...</td>\n      <td>...</td>\n      <td>...</td>\n      <td>...</td>\n      <td>...</td>\n      <td>...</td>\n      <td>...</td>\n      <td>...</td>\n      <td>...</td>\n      <td>...</td>\n      <td>...</td>\n      <td>...</td>\n      <td>...</td>\n      <td>...</td>\n      <td>...</td>\n      <td>...</td>\n      <td>...</td>\n      <td>...</td>\n      <td>...</td>\n      <td>...</td>\n      <td>...</td>\n    </tr>\n    <tr>\n      <th rowspan=\"5\" valign=\"top\">2022</th>\n      <th rowspan=\"5\" valign=\"top\">4</th>\n      <th>26</th>\n      <td>12.864473</td>\n      <td>12.864473</td>\n      <td>7.633822</td>\n      <td>12.864473</td>\n      <td>8.389263</td>\n      <td>12.864473</td>\n      <td>12.864473</td>\n      <td>7.633822</td>\n      <td>6.878380</td>\n      <td>12.864473</td>\n      <td>...</td>\n      <td>7.633822</td>\n      <td>7.633822</td>\n      <td>7.633822</td>\n      <td>15.857519</td>\n      <td>15.857519</td>\n      <td>15.857519</td>\n      <td>15.857519</td>\n      <td>15.857519</td>\n      <td>8.389263</td>\n      <td>15.857519</td>\n    </tr>\n    <tr>\n      <th>27</th>\n      <td>5.382056</td>\n      <td>89.130133</td>\n      <td>89.130133</td>\n      <td>5.382056</td>\n      <td>5.382056</td>\n      <td>89.130133</td>\n      <td>89.130133</td>\n      <td>5.382056</td>\n      <td>6.901912</td>\n      <td>89.130133</td>\n      <td>...</td>\n      <td>5.382056</td>\n      <td>5.382056</td>\n      <td>5.382056</td>\n      <td>130.244244</td>\n      <td>130.244244</td>\n      <td>130.244244</td>\n      <td>130.244244</td>\n      <td>130.244244</td>\n      <td>130.244244</td>\n      <td>130.244244</td>\n    </tr>\n    <tr>\n      <th>28</th>\n      <td>30.857413</td>\n      <td>30.857413</td>\n      <td>30.857413</td>\n      <td>7.266788</td>\n      <td>7.266788</td>\n      <td>30.857413</td>\n      <td>30.857413</td>\n      <td>7.266788</td>\n      <td>7.009232</td>\n      <td>30.857413</td>\n      <td>...</td>\n      <td>7.266788</td>\n      <td>7.266788</td>\n      <td>7.266788</td>\n      <td>42.781504</td>\n      <td>42.781504</td>\n      <td>42.781504</td>\n      <td>42.781504</td>\n      <td>42.781504</td>\n      <td>42.781504</td>\n      <td>42.781504</td>\n    </tr>\n    <tr>\n      <th>29</th>\n      <td>64.088870</td>\n      <td>64.088870</td>\n      <td>64.088870</td>\n      <td>64.088870</td>\n      <td>8.019914</td>\n      <td>64.088870</td>\n      <td>64.088870</td>\n      <td>8.019914</td>\n      <td>6.716582</td>\n      <td>64.088870</td>\n      <td>...</td>\n      <td>64.088870</td>\n      <td>6.716582</td>\n      <td>8.019914</td>\n      <td>92.775015</td>\n      <td>92.775015</td>\n      <td>92.775015</td>\n      <td>92.775015</td>\n      <td>92.775015</td>\n      <td>92.775015</td>\n      <td>92.775015</td>\n    </tr>\n    <tr>\n      <th>30</th>\n      <td>5.680668</td>\n      <td>36.161326</td>\n      <td>36.161326</td>\n      <td>36.161326</td>\n      <td>36.161326</td>\n      <td>36.161326</td>\n      <td>36.161326</td>\n      <td>5.680668</td>\n      <td>5.680668</td>\n      <td>36.161326</td>\n      <td>...</td>\n      <td>5.680668</td>\n      <td>6.490900</td>\n      <td>5.680668</td>\n      <td>50.996540</td>\n      <td>4.870435</td>\n      <td>50.996540</td>\n      <td>50.996540</td>\n      <td>4.870435</td>\n      <td>50.996540</td>\n      <td>50.996540</td>\n    </tr>\n  </tbody>\n</table>\n<p>792 rows × 262 columns</p>\n</div>"
     },
     "execution_count": 31,
     "metadata": {},
     "output_type": "execute_result"
    }
   ],
   "source": [
    "c_distances"
   ],
   "metadata": {
    "collapsed": false,
    "pycharm": {
     "name": "#%%\n"
    }
   }
  },
  {
   "cell_type": "code",
   "execution_count": 4,
   "outputs": [
    {
     "data": {
      "text/plain": "                case_count\nyear month day            \n2020 2     29          3.0\n     3     1           0.0\n           2           0.0\n           3           3.0\n           4          15.0\n...                    ...\n2022 4     26       8832.0\n           27       5580.0\n           28       8004.0\n           29       8361.0\n           30       3236.0\n\n[792 rows x 1 columns]",
      "text/html": "<div>\n<style scoped>\n    .dataframe tbody tr th:only-of-type {\n        vertical-align: middle;\n    }\n\n    .dataframe tbody tr th {\n        vertical-align: top;\n    }\n\n    .dataframe thead th {\n        text-align: right;\n    }\n</style>\n<table border=\"1\" class=\"dataframe\">\n  <thead>\n    <tr style=\"text-align: right;\">\n      <th></th>\n      <th></th>\n      <th></th>\n      <th>case_count</th>\n    </tr>\n    <tr>\n      <th>year</th>\n      <th>month</th>\n      <th>day</th>\n      <th></th>\n    </tr>\n  </thead>\n  <tbody>\n    <tr>\n      <th rowspan=\"5\" valign=\"top\">2020</th>\n      <th>2</th>\n      <th>29</th>\n      <td>3.0</td>\n    </tr>\n    <tr>\n      <th rowspan=\"4\" valign=\"top\">3</th>\n      <th>1</th>\n      <td>0.0</td>\n    </tr>\n    <tr>\n      <th>2</th>\n      <td>0.0</td>\n    </tr>\n    <tr>\n      <th>3</th>\n      <td>3.0</td>\n    </tr>\n    <tr>\n      <th>4</th>\n      <td>15.0</td>\n    </tr>\n    <tr>\n      <th>...</th>\n      <th>...</th>\n      <th>...</th>\n      <td>...</td>\n    </tr>\n    <tr>\n      <th rowspan=\"5\" valign=\"top\">2022</th>\n      <th rowspan=\"5\" valign=\"top\">4</th>\n      <th>26</th>\n      <td>8832.0</td>\n    </tr>\n    <tr>\n      <th>27</th>\n      <td>5580.0</td>\n    </tr>\n    <tr>\n      <th>28</th>\n      <td>8004.0</td>\n    </tr>\n    <tr>\n      <th>29</th>\n      <td>8361.0</td>\n    </tr>\n    <tr>\n      <th>30</th>\n      <td>3236.0</td>\n    </tr>\n  </tbody>\n</table>\n<p>792 rows × 1 columns</p>\n</div>"
     },
     "execution_count": 4,
     "metadata": {},
     "output_type": "execute_result"
    }
   ],
   "source": [
    "c_cov_cases"
   ],
   "metadata": {
    "collapsed": false,
    "pycharm": {
     "name": "#%%\n"
    }
   }
  },
  {
   "cell_type": "code",
   "execution_count": null,
   "outputs": [],
   "source": [
    "import plotly.express as px\n"
   ],
   "metadata": {
    "collapsed": false,
    "pycharm": {
     "name": "#%%\n"
    }
   }
  },
  {
   "cell_type": "code",
   "execution_count": 11,
   "outputs": [
    {
     "ename": "TypeError",
     "evalue": "Argument 'y' is a pandas MultiIndex. pandas MultiIndex is not supported by plotly express at the moment.",
     "output_type": "error",
     "traceback": [
      "\u001B[1;31m---------------------------------------------------------------------------\u001B[0m",
      "\u001B[1;31mTypeError\u001B[0m                                 Traceback (most recent call last)",
      "Input \u001B[1;32mIn [11]\u001B[0m, in \u001B[0;36m<cell line: 2>\u001B[1;34m()\u001B[0m\n\u001B[0;32m      1\u001B[0m \u001B[38;5;66;03m# Plot\u001B[39;00m\n\u001B[1;32m----> 2\u001B[0m fig \u001B[38;5;241m=\u001B[39m \u001B[43mpx\u001B[49m\u001B[38;5;241;43m.\u001B[39;49m\u001B[43mline\u001B[49m\u001B[43m(\u001B[49m\u001B[43mc_cov_cases\u001B[49m\u001B[43m,\u001B[49m\u001B[43m \u001B[49m\u001B[43mx\u001B[49m\u001B[38;5;241;43m=\u001B[39;49m\u001B[38;5;124;43m'\u001B[39;49m\u001B[38;5;124;43mcase_count\u001B[39;49m\u001B[38;5;124;43m'\u001B[39;49m\u001B[43m)\u001B[49m\n\u001B[0;32m      4\u001B[0m \u001B[38;5;66;03m#fig.add_scatter(x=df['Date'], y=df['AAPL.Low']) # Not what is desired - need a line\u001B[39;00m\n\u001B[0;32m      5\u001B[0m \n\u001B[0;32m      6\u001B[0m \u001B[38;5;66;03m# Show plot\u001B[39;00m\n\u001B[0;32m      7\u001B[0m fig\u001B[38;5;241m.\u001B[39mshow()\n",
      "File \u001B[1;32mC:\\anaconda\\envs\\nyc\\lib\\site-packages\\plotly\\express\\_chart_types.py:264\u001B[0m, in \u001B[0;36mline\u001B[1;34m(data_frame, x, y, line_group, color, line_dash, symbol, hover_name, hover_data, custom_data, text, facet_row, facet_col, facet_col_wrap, facet_row_spacing, facet_col_spacing, error_x, error_x_minus, error_y, error_y_minus, animation_frame, animation_group, category_orders, labels, orientation, color_discrete_sequence, color_discrete_map, line_dash_sequence, line_dash_map, symbol_sequence, symbol_map, markers, log_x, log_y, range_x, range_y, line_shape, render_mode, title, template, width, height)\u001B[0m\n\u001B[0;32m    216\u001B[0m \u001B[38;5;28;01mdef\u001B[39;00m \u001B[38;5;21mline\u001B[39m(\n\u001B[0;32m    217\u001B[0m     data_frame\u001B[38;5;241m=\u001B[39m\u001B[38;5;28;01mNone\u001B[39;00m,\n\u001B[0;32m    218\u001B[0m     x\u001B[38;5;241m=\u001B[39m\u001B[38;5;28;01mNone\u001B[39;00m,\n\u001B[1;32m   (...)\u001B[0m\n\u001B[0;32m    258\u001B[0m     height\u001B[38;5;241m=\u001B[39m\u001B[38;5;28;01mNone\u001B[39;00m,\n\u001B[0;32m    259\u001B[0m ) \u001B[38;5;241m-\u001B[39m\u001B[38;5;241m>\u001B[39m go\u001B[38;5;241m.\u001B[39mFigure:\n\u001B[0;32m    260\u001B[0m     \u001B[38;5;124;03m\"\"\"\u001B[39;00m\n\u001B[0;32m    261\u001B[0m \u001B[38;5;124;03m    In a 2D line plot, each row of `data_frame` is represented as vertex of\u001B[39;00m\n\u001B[0;32m    262\u001B[0m \u001B[38;5;124;03m    a polyline mark in 2D space.\u001B[39;00m\n\u001B[0;32m    263\u001B[0m \u001B[38;5;124;03m    \"\"\"\u001B[39;00m\n\u001B[1;32m--> 264\u001B[0m     \u001B[38;5;28;01mreturn\u001B[39;00m \u001B[43mmake_figure\u001B[49m\u001B[43m(\u001B[49m\u001B[43margs\u001B[49m\u001B[38;5;241;43m=\u001B[39;49m\u001B[38;5;28;43mlocals\u001B[39;49m\u001B[43m(\u001B[49m\u001B[43m)\u001B[49m\u001B[43m,\u001B[49m\u001B[43m \u001B[49m\u001B[43mconstructor\u001B[49m\u001B[38;5;241;43m=\u001B[39;49m\u001B[43mgo\u001B[49m\u001B[38;5;241;43m.\u001B[39;49m\u001B[43mScatter\u001B[49m\u001B[43m)\u001B[49m\n",
      "File \u001B[1;32mC:\\anaconda\\envs\\nyc\\lib\\site-packages\\plotly\\express\\_core.py:1990\u001B[0m, in \u001B[0;36mmake_figure\u001B[1;34m(args, constructor, trace_patch, layout_patch)\u001B[0m\n\u001B[0;32m   1987\u001B[0m layout_patch \u001B[38;5;241m=\u001B[39m layout_patch \u001B[38;5;129;01mor\u001B[39;00m {}\n\u001B[0;32m   1988\u001B[0m apply_default_cascade(args)\n\u001B[1;32m-> 1990\u001B[0m args \u001B[38;5;241m=\u001B[39m \u001B[43mbuild_dataframe\u001B[49m\u001B[43m(\u001B[49m\u001B[43margs\u001B[49m\u001B[43m,\u001B[49m\u001B[43m \u001B[49m\u001B[43mconstructor\u001B[49m\u001B[43m)\u001B[49m\n\u001B[0;32m   1991\u001B[0m \u001B[38;5;28;01mif\u001B[39;00m constructor \u001B[38;5;129;01min\u001B[39;00m [go\u001B[38;5;241m.\u001B[39mTreemap, go\u001B[38;5;241m.\u001B[39mSunburst, go\u001B[38;5;241m.\u001B[39mIcicle] \u001B[38;5;129;01mand\u001B[39;00m args[\u001B[38;5;124m\"\u001B[39m\u001B[38;5;124mpath\u001B[39m\u001B[38;5;124m\"\u001B[39m] \u001B[38;5;129;01mis\u001B[39;00m \u001B[38;5;129;01mnot\u001B[39;00m \u001B[38;5;28;01mNone\u001B[39;00m:\n\u001B[0;32m   1992\u001B[0m     args \u001B[38;5;241m=\u001B[39m process_dataframe_hierarchy(args)\n",
      "File \u001B[1;32mC:\\anaconda\\envs\\nyc\\lib\\site-packages\\plotly\\express\\_core.py:1405\u001B[0m, in \u001B[0;36mbuild_dataframe\u001B[1;34m(args, constructor)\u001B[0m\n\u001B[0;32m   1402\u001B[0m     args[\u001B[38;5;124m\"\u001B[39m\u001B[38;5;124mcolor\u001B[39m\u001B[38;5;124m\"\u001B[39m] \u001B[38;5;241m=\u001B[39m \u001B[38;5;28;01mNone\u001B[39;00m\n\u001B[0;32m   1403\u001B[0m \u001B[38;5;66;03m# now that things have been prepped, we do the systematic rewriting of `args`\u001B[39;00m\n\u001B[1;32m-> 1405\u001B[0m df_output, wide_id_vars \u001B[38;5;241m=\u001B[39m \u001B[43mprocess_args_into_dataframe\u001B[49m\u001B[43m(\u001B[49m\n\u001B[0;32m   1406\u001B[0m \u001B[43m    \u001B[49m\u001B[43margs\u001B[49m\u001B[43m,\u001B[49m\u001B[43m \u001B[49m\u001B[43mwide_mode\u001B[49m\u001B[43m,\u001B[49m\u001B[43m \u001B[49m\u001B[43mvar_name\u001B[49m\u001B[43m,\u001B[49m\u001B[43m \u001B[49m\u001B[43mvalue_name\u001B[49m\n\u001B[0;32m   1407\u001B[0m \u001B[43m\u001B[49m\u001B[43m)\u001B[49m\n\u001B[0;32m   1409\u001B[0m \u001B[38;5;66;03m# now that `df_output` exists and `args` contains only references, we complete\u001B[39;00m\n\u001B[0;32m   1410\u001B[0m \u001B[38;5;66;03m# the special-case and wide-mode handling by further rewriting args and/or mutating\u001B[39;00m\n\u001B[0;32m   1411\u001B[0m \u001B[38;5;66;03m# df_output\u001B[39;00m\n\u001B[0;32m   1413\u001B[0m count_name \u001B[38;5;241m=\u001B[39m _escape_col_name(df_output, \u001B[38;5;124m\"\u001B[39m\u001B[38;5;124mcount\u001B[39m\u001B[38;5;124m\"\u001B[39m, [var_name, value_name])\n",
      "File \u001B[1;32mC:\\anaconda\\envs\\nyc\\lib\\site-packages\\plotly\\express\\_core.py:1148\u001B[0m, in \u001B[0;36mprocess_args_into_dataframe\u001B[1;34m(args, wide_mode, var_name, value_name)\u001B[0m\n\u001B[0;32m   1146\u001B[0m \u001B[38;5;66;03m# Case of multiindex\u001B[39;00m\n\u001B[0;32m   1147\u001B[0m \u001B[38;5;28;01mif\u001B[39;00m \u001B[38;5;28misinstance\u001B[39m(argument, pd\u001B[38;5;241m.\u001B[39mMultiIndex):\n\u001B[1;32m-> 1148\u001B[0m     \u001B[38;5;28;01mraise\u001B[39;00m \u001B[38;5;167;01mTypeError\u001B[39;00m(\n\u001B[0;32m   1149\u001B[0m         \u001B[38;5;124m\"\u001B[39m\u001B[38;5;124mArgument \u001B[39m\u001B[38;5;124m'\u001B[39m\u001B[38;5;132;01m%s\u001B[39;00m\u001B[38;5;124m'\u001B[39m\u001B[38;5;124m is a pandas MultiIndex. \u001B[39m\u001B[38;5;124m\"\u001B[39m\n\u001B[0;32m   1150\u001B[0m         \u001B[38;5;124m\"\u001B[39m\u001B[38;5;124mpandas MultiIndex is not supported by plotly express \u001B[39m\u001B[38;5;124m\"\u001B[39m\n\u001B[0;32m   1151\u001B[0m         \u001B[38;5;124m\"\u001B[39m\u001B[38;5;124mat the moment.\u001B[39m\u001B[38;5;124m\"\u001B[39m \u001B[38;5;241m%\u001B[39m field\n\u001B[0;32m   1152\u001B[0m     )\n\u001B[0;32m   1153\u001B[0m \u001B[38;5;66;03m# ----------------- argument is a special value ----------------------\u001B[39;00m\n\u001B[0;32m   1154\u001B[0m \u001B[38;5;28;01mif\u001B[39;00m \u001B[38;5;28misinstance\u001B[39m(argument, Constant) \u001B[38;5;129;01mor\u001B[39;00m \u001B[38;5;28misinstance\u001B[39m(argument, Range):\n",
      "\u001B[1;31mTypeError\u001B[0m: Argument 'y' is a pandas MultiIndex. pandas MultiIndex is not supported by plotly express at the moment."
     ]
    }
   ],
   "source": [
    "# Plot\n",
    "fig = px.line(c_cov_cases, x='case_count')\n",
    "\n",
    "#fig.add_scatter(x=df['Date'], y=df['AAPL.Low']) # Not what is desired - need a line\n",
    "\n",
    "# Show plot\n",
    "fig.show()"
   ],
   "metadata": {
    "collapsed": false,
    "pycharm": {
     "name": "#%%\n"
    }
   }
  },
  {
   "cell_type": "code",
   "execution_count": null,
   "outputs": [],
   "source": [
    "import matplotlib as plt\n",
    "ax = c_cov_cases.unstack(level=0).plot(kind='bar', subplots=True, rot=0, figsize=(12, 7), layout=(2, 3))\n",
    "plt.tight_layout()"
   ],
   "metadata": {
    "collapsed": false,
    "pycharm": {
     "name": "#%%\n"
    }
   }
  },
  {
   "cell_type": "code",
   "execution_count": null,
   "outputs": [
    {
     "data": {
      "text/plain": "<Figure size 1200x700 with 6 Axes>",
      "image/png": "[encoded data removed]"
     },
     "metadata": {},
     "output_type": "display_data"
    }
   ],
   "source": [
    "df = c_distances.groupby(level=0, axis=1).sum()\n",
    "ax = df.unstack(level=0).plot(kind='bar', subplots=True, rot=0, figsize=(12, 7), layout=(2, 3))\n",
    "plt.tight_layout()"
   ],
   "metadata": {
    "collapsed": false,
    "pycharm": {
     "name": "#%%\n"
    }
   }
  },
  {
   "cell_type": "code",
   "execution_count": 4,
   "outputs": [
    {
     "ename": "NameError",
     "evalue": "name 'plt' is not defined",
     "output_type": "error",
     "traceback": [
      "\u001B[1;31m---------------------------------------------------------------------------\u001B[0m",
      "\u001B[1;31mNameError\u001B[0m                                 Traceback (most recent call last)",
      "Input \u001B[1;32mIn [4]\u001B[0m, in \u001B[0;36m<cell line: 4>\u001B[1;34m()\u001B[0m\n\u001B[0;32m      1\u001B[0m dfp \u001B[38;5;241m=\u001B[39m df\u001B[38;5;241m.\u001B[39mpivot_table(index\u001B[38;5;241m=\u001B[39m\u001B[38;5;124m'\u001B[39m\u001B[38;5;124myear\u001B[39m\u001B[38;5;124m'\u001B[39m, values\u001B[38;5;241m=\u001B[39mdf\u001B[38;5;241m.\u001B[39mcolumns, aggfunc\u001B[38;5;241m=\u001B[39m\u001B[38;5;124m'\u001B[39m\u001B[38;5;124mmean\u001B[39m\u001B[38;5;124m'\u001B[39m)\n\u001B[0;32m      3\u001B[0m dfp\u001B[38;5;241m.\u001B[39mplot(kind\u001B[38;5;241m=\u001B[39m\u001B[38;5;124m'\u001B[39m\u001B[38;5;124mbar\u001B[39m\u001B[38;5;124m'\u001B[39m, subplots\u001B[38;5;241m=\u001B[39m\u001B[38;5;28;01mTrue\u001B[39;00m, rot\u001B[38;5;241m=\u001B[39m\u001B[38;5;241m0\u001B[39m, figsize\u001B[38;5;241m=\u001B[39m(\u001B[38;5;241m9\u001B[39m, \u001B[38;5;241m7\u001B[39m), layout\u001B[38;5;241m=\u001B[39m(\u001B[38;5;241m3\u001B[39m, \u001B[38;5;241m3\u001B[39m))\n\u001B[1;32m----> 4\u001B[0m \u001B[43mplt\u001B[49m\u001B[38;5;241m.\u001B[39mtight_layout()\n",
      "\u001B[1;31mNameError\u001B[0m: name 'plt' is not defined"
     ]
    },
    {
     "data": {
      "text/plain": "<Figure size 900x700 with 9 Axes>",
      "image/png": "[encoded data removed]"
     },
     "metadata": {},
     "output_type": "display_data"
    }
   ],
   "source": [
    "dfp = df.pivot_table(index='year', values=df.columns, aggfunc='mean')\n",
    "\n",
    "dfp.plot(kind='bar', subplots=True, rot=0, figsize=(9, 7), layout=(3, 3))\n",
    "plt.tight_layout()"
   ],
   "metadata": {
    "collapsed": false,
    "pycharm": {
     "name": "#%%\n"
    }
   }
  },
  {
   "cell_type": "code",
   "execution_count": null,
   "outputs": [],
   "source": [],
   "metadata": {
    "collapsed": false,
    "pycharm": {
     "name": "#%%\n"
    }
   }
  }
 ],
 "metadata": {
  "kernelspec": {
   "display_name": "Python 3",
   "language": "python",
   "name": "python3"
  },
  "language_info": {
   "codemirror_mode": {
    "name": "ipython",
    "version": 2
   },
   "file_extension": ".py",
   "mimetype": "text/x-python",
   "name": "python",
   "nbconvert_exporter": "python",
   "pygments_lexer": "ipython2",
   "version": "2.7.6"
  }
 },
 "nbformat": 4,
 "nbformat_minor": 0
}