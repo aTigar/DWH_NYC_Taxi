{
 "cells": [
  {
   "cell_type": "code",
   "execution_count": 1,
   "outputs": [],
   "source": [
    "import datetime\n",
    "import numpy as np\n",
    "import pandas as pd\n",
    "import pyarrow.dataset as ds\n",
    "import pyarrow as pa\n",
    "from datetime import datetime"
   ],
   "metadata": {
    "collapsed": false,
    "pycharm": {
     "name": "#%%\n"
    }
   }
  },
  {
   "cell_type": "code",
   "execution_count": 2,
   "outputs": [],
   "source": [
    "def fix_schema(table):\n",
    "    \"\"\"\n",
    "    This\n",
    "    :param table:\n",
    "    :return:\n",
    "    \"\"\"\n",
    "    schema = table.schema\n",
    "    field_names = ['dropOff_datetime', 'pickup_datetime', 'tpep_dropoff_datetime', 'tpep_pickup_datetime']\n",
    "    field_index = [schema.get_field_index(name) for name in field_names]\n",
    "    # set new fields\n",
    "    for i in range(len(field_names)):\n",
    "        if not field_index[i] == -1:\n",
    "            schema = schema.set(field_index[i], pa.field(field_names[i], pa.int64()))\n",
    "    table = table.cast(target_schema=schema)\n",
    "    return table"
   ],
   "metadata": {
    "collapsed": false,
    "pycharm": {
     "name": "#%%\n"
    }
   }
  },
  {
   "cell_type": "code",
   "execution_count": 3,
   "outputs": [],
   "source": [
    "\n",
    "file = \"C:\\\\Users\\\\Tim Garbe\\\\IdeaProjects\\\\DWH_NYC_Taxi\\\\data\\\\taxi\\\\fhv_01_2022.parquet\"\n",
    "\n",
    "schema = pa.schema([\n",
    "    ('dispatching_base_num', pa.string()),\n",
    "    ('dropOff_datetime', pa.int64()),\n",
    "    ('pickup_datetime', pa.int64()),\n",
    "    ('PUlocationID', pa.int64()),\n",
    "    ('DOlocationID', pa.int64()),\n",
    "    ('PULocationID', pa.int64()),\n",
    "    ('DOLocationID', pa.int64()),\n",
    "    ('SR_Flag', pa.float64()),\n",
    "    ('painis', pa.float64()),\n",
    "    ('Affiliated_base_number', pa.string()),\n",
    "])\n",
    "table = ds.dataset(file).to_table()\n",
    "df_new = fix_schema(table).to_pandas()"
   ],
   "metadata": {
    "collapsed": false,
    "pycharm": {
     "name": "#%%\n"
    }
   }
  },
  {
   "cell_type": "code",
   "execution_count": 4,
   "outputs": [
    {
     "data": {
      "text/plain": "        dispatching_base_num   pickup_datetime  dropOff_datetime  \\\n0                     B00009  1640997060000000  1640999100000000   \n1                     B00009  1640997420000000  1640999100000000   \n2                     B00037  1640998597000000  1640999171000000   \n3                     B00037  1640996394000000  1640997047000000   \n4                     B00037  1640997709000000  1640998336000000   \n...                      ...               ...               ...   \n1143686               B03380  1643671361000000  1643671599000000   \n1143687               B03380  1643672562000000  1643673178000000   \n1143688               B03380  1643670433000000  1643670820000000   \n1143689               B03380  1643670974000000  1643671863000000   \n1143690               B03381  1643672862000000  1643674503000000   \n\n         PUlocationID  DOlocationID SR_Flag Affiliated_base_number  \n0                 NaN           NaN    None                 B00009  \n1                 NaN           NaN    None                 B00009  \n2                 NaN          85.0    None                 B00037  \n3                 NaN          85.0    None                 B00037  \n4                 NaN         188.0    None                 B00037  \n...               ...           ...     ...                    ...  \n1143686         234.0         107.0    None                 B03380  \n1143687         114.0         148.0    None                 B03380  \n1143688          90.0         113.0    None                 B03380  \n1143689         113.0         140.0    None                 B03380  \n1143690           NaN         122.0    None                 B03404  \n\n[1143691 rows x 7 columns]",
      "text/html": "<div>\n<style scoped>\n    .dataframe tbody tr th:only-of-type {\n        vertical-align: middle;\n    }\n\n    .dataframe tbody tr th {\n        vertical-align: top;\n    }\n\n    .dataframe thead th {\n        text-align: right;\n    }\n</style>\n<table border=\"1\" class=\"dataframe\">\n  <thead>\n    <tr style=\"text-align: right;\">\n      <th></th>\n      <th>dispatching_base_num</th>\n      <th>pickup_datetime</th>\n      <th>dropOff_datetime</th>\n      <th>PUlocationID</th>\n      <th>DOlocationID</th>\n      <th>SR_Flag</th>\n      <th>Affiliated_base_number</th>\n    </tr>\n  </thead>\n  <tbody>\n    <tr>\n      <th>0</th>\n      <td>B00009</td>\n      <td>1640997060000000</td>\n      <td>1640999100000000</td>\n      <td>NaN</td>\n      <td>NaN</td>\n      <td>None</td>\n      <td>B00009</td>\n    </tr>\n    <tr>\n      <th>1</th>\n      <td>B00009</td>\n      <td>1640997420000000</td>\n      <td>1640999100000000</td>\n      <td>NaN</td>\n      <td>NaN</td>\n      <td>None</td>\n      <td>B00009</td>\n    </tr>\n    <tr>\n      <th>2</th>\n      <td>B00037</td>\n      <td>1640998597000000</td>\n      <td>1640999171000000</td>\n      <td>NaN</td>\n      <td>85.0</td>\n      <td>None</td>\n      <td>B00037</td>\n    </tr>\n    <tr>\n      <th>3</th>\n      <td>B00037</td>\n      <td>1640996394000000</td>\n      <td>1640997047000000</td>\n      <td>NaN</td>\n      <td>85.0</td>\n      <td>None</td>\n      <td>B00037</td>\n    </tr>\n    <tr>\n      <th>4</th>\n      <td>B00037</td>\n      <td>1640997709000000</td>\n      <td>1640998336000000</td>\n      <td>NaN</td>\n      <td>188.0</td>\n      <td>None</td>\n      <td>B00037</td>\n    </tr>\n    <tr>\n      <th>...</th>\n      <td>...</td>\n      <td>...</td>\n      <td>...</td>\n      <td>...</td>\n      <td>...</td>\n      <td>...</td>\n      <td>...</td>\n    </tr>\n    <tr>\n      <th>1143686</th>\n      <td>B03380</td>\n      <td>1643671361000000</td>\n      <td>1643671599000000</td>\n      <td>234.0</td>\n      <td>107.0</td>\n      <td>None</td>\n      <td>B03380</td>\n    </tr>\n    <tr>\n      <th>1143687</th>\n      <td>B03380</td>\n      <td>1643672562000000</td>\n      <td>1643673178000000</td>\n      <td>114.0</td>\n      <td>148.0</td>\n      <td>None</td>\n      <td>B03380</td>\n    </tr>\n    <tr>\n      <th>1143688</th>\n      <td>B03380</td>\n      <td>1643670433000000</td>\n      <td>1643670820000000</td>\n      <td>90.0</td>\n      <td>113.0</td>\n      <td>None</td>\n      <td>B03380</td>\n    </tr>\n    <tr>\n      <th>1143689</th>\n      <td>B03380</td>\n      <td>1643670974000000</td>\n      <td>1643671863000000</td>\n      <td>113.0</td>\n      <td>140.0</td>\n      <td>None</td>\n      <td>B03380</td>\n    </tr>\n    <tr>\n      <th>1143690</th>\n      <td>B03381</td>\n      <td>1643672862000000</td>\n      <td>1643674503000000</td>\n      <td>NaN</td>\n      <td>122.0</td>\n      <td>None</td>\n      <td>B03404</td>\n    </tr>\n  </tbody>\n</table>\n<p>1143691 rows × 7 columns</p>\n</div>"
     },
     "execution_count": 4,
     "metadata": {},
     "output_type": "execute_result"
    }
   ],
   "source": [
    "df_new\n"
   ],
   "metadata": {
    "collapsed": false,
    "pycharm": {
     "name": "#%%\n"
    }
   }
  },
  {
   "cell_type": "code",
   "execution_count": 5,
   "outputs": [],
   "source": [
    "df = df_new.copy()\n",
    "\n",
    "df['date'] = df['pickup_datetime'].apply(lambda x: pd.to_datetime(x, unit='us').strftime('%Y-%m-%d'))"
   ],
   "metadata": {
    "collapsed": false,
    "pycharm": {
     "name": "#%%\n"
    }
   }
  },
  {
   "cell_type": "code",
   "execution_count": 6,
   "outputs": [
    {
     "data": {
      "text/plain": "        dispatching_base_num   pickup_datetime  dropOff_datetime  \\\n0                     B00009  1640997060000000  1640999100000000   \n1                     B00009  1640997420000000  1640999100000000   \n2                     B00037  1640998597000000  1640999171000000   \n3                     B00037  1640996394000000  1640997047000000   \n4                     B00037  1640997709000000  1640998336000000   \n...                      ...               ...               ...   \n1143686               B03380  1643671361000000  1643671599000000   \n1143687               B03380  1643672562000000  1643673178000000   \n1143688               B03380  1643670433000000  1643670820000000   \n1143689               B03380  1643670974000000  1643671863000000   \n1143690               B03381  1643672862000000  1643674503000000   \n\n         PUlocationID  DOlocationID SR_Flag Affiliated_base_number        date  \n0                 NaN           NaN    None                 B00009  2022-01-01  \n1                 NaN           NaN    None                 B00009  2022-01-01  \n2                 NaN          85.0    None                 B00037  2022-01-01  \n3                 NaN          85.0    None                 B00037  2022-01-01  \n4                 NaN         188.0    None                 B00037  2022-01-01  \n...               ...           ...     ...                    ...         ...  \n1143686         234.0         107.0    None                 B03380  2022-01-31  \n1143687         114.0         148.0    None                 B03380  2022-01-31  \n1143688          90.0         113.0    None                 B03380  2022-01-31  \n1143689         113.0         140.0    None                 B03380  2022-01-31  \n1143690           NaN         122.0    None                 B03404  2022-01-31  \n\n[1143691 rows x 8 columns]",
      "text/html": "<div>\n<style scoped>\n    .dataframe tbody tr th:only-of-type {\n        vertical-align: middle;\n    }\n\n    .dataframe tbody tr th {\n        vertical-align: top;\n    }\n\n    .dataframe thead th {\n        text-align: right;\n    }\n</style>\n<table border=\"1\" class=\"dataframe\">\n  <thead>\n    <tr style=\"text-align: right;\">\n      <th></th>\n      <th>dispatching_base_num</th>\n      <th>pickup_datetime</th>\n      <th>dropOff_datetime</th>\n      <th>PUlocationID</th>\n      <th>DOlocationID</th>\n      <th>SR_Flag</th>\n      <th>Affiliated_base_number</th>\n      <th>date</th>\n    </tr>\n  </thead>\n  <tbody>\n    <tr>\n      <th>0</th>\n      <td>B00009</td>\n      <td>1640997060000000</td>\n      <td>1640999100000000</td>\n      <td>NaN</td>\n      <td>NaN</td>\n      <td>None</td>\n      <td>B00009</td>\n      <td>2022-01-01</td>\n    </tr>\n    <tr>\n      <th>1</th>\n      <td>B00009</td>\n      <td>1640997420000000</td>\n      <td>1640999100000000</td>\n      <td>NaN</td>\n      <td>NaN</td>\n      <td>None</td>\n      <td>B00009</td>\n      <td>2022-01-01</td>\n    </tr>\n    <tr>\n      <th>2</th>\n      <td>B00037</td>\n      <td>1640998597000000</td>\n      <td>1640999171000000</td>\n      <td>NaN</td>\n      <td>85.0</td>\n      <td>None</td>\n      <td>B00037</td>\n      <td>2022-01-01</td>\n    </tr>\n    <tr>\n      <th>3</th>\n      <td>B00037</td>\n      <td>1640996394000000</td>\n      <td>1640997047000000</td>\n      <td>NaN</td>\n      <td>85.0</td>\n      <td>None</td>\n      <td>B00037</td>\n      <td>2022-01-01</td>\n    </tr>\n    <tr>\n      <th>4</th>\n      <td>B00037</td>\n      <td>1640997709000000</td>\n      <td>1640998336000000</td>\n      <td>NaN</td>\n      <td>188.0</td>\n      <td>None</td>\n      <td>B00037</td>\n      <td>2022-01-01</td>\n    </tr>\n    <tr>\n      <th>...</th>\n      <td>...</td>\n      <td>...</td>\n      <td>...</td>\n      <td>...</td>\n      <td>...</td>\n      <td>...</td>\n      <td>...</td>\n      <td>...</td>\n    </tr>\n    <tr>\n      <th>1143686</th>\n      <td>B03380</td>\n      <td>1643671361000000</td>\n      <td>1643671599000000</td>\n      <td>234.0</td>\n      <td>107.0</td>\n      <td>None</td>\n      <td>B03380</td>\n      <td>2022-01-31</td>\n    </tr>\n    <tr>\n      <th>1143687</th>\n      <td>B03380</td>\n      <td>1643672562000000</td>\n      <td>1643673178000000</td>\n      <td>114.0</td>\n      <td>148.0</td>\n      <td>None</td>\n      <td>B03380</td>\n      <td>2022-01-31</td>\n    </tr>\n    <tr>\n      <th>1143688</th>\n      <td>B03380</td>\n      <td>1643670433000000</td>\n      <td>1643670820000000</td>\n      <td>90.0</td>\n      <td>113.0</td>\n      <td>None</td>\n      <td>B03380</td>\n      <td>2022-01-31</td>\n    </tr>\n    <tr>\n      <th>1143689</th>\n      <td>B03380</td>\n      <td>1643670974000000</td>\n      <td>1643671863000000</td>\n      <td>113.0</td>\n      <td>140.0</td>\n      <td>None</td>\n      <td>B03380</td>\n      <td>2022-01-31</td>\n    </tr>\n    <tr>\n      <th>1143690</th>\n      <td>B03381</td>\n      <td>1643672862000000</td>\n      <td>1643674503000000</td>\n      <td>NaN</td>\n      <td>122.0</td>\n      <td>None</td>\n      <td>B03404</td>\n      <td>2022-01-31</td>\n    </tr>\n  </tbody>\n</table>\n<p>1143691 rows × 8 columns</p>\n</div>"
     },
     "execution_count": 6,
     "metadata": {},
     "output_type": "execute_result"
    }
   ],
   "source": [
    "df"
   ],
   "metadata": {
    "collapsed": false,
    "pycharm": {
     "name": "#%%\n"
    }
   }
  },
  {
   "cell_type": "code",
   "execution_count": 7,
   "outputs": [
    {
     "name": "stdout",
     "output_type": "stream",
     "text": [
      "1640998480000000\n"
     ]
    }
   ],
   "source": [
    "timetamp = int(1640998480000000)\n",
    "print(timetamp)"
   ],
   "metadata": {
    "collapsed": false,
    "pycharm": {
     "name": "#%%\n"
    }
   }
  },
  {
   "cell_type": "code",
   "execution_count": 8,
   "outputs": [
    {
     "data": {
      "text/plain": "Timestamp('2022-01-01 00:54:40')"
     },
     "execution_count": 8,
     "metadata": {},
     "output_type": "execute_result"
    }
   ],
   "source": [
    "pd.to_datetime(timetamp, unit='us')\n"
   ],
   "metadata": {
    "collapsed": false,
    "pycharm": {
     "name": "#%%\n"
    }
   }
  },
  {
   "cell_type": "code",
   "execution_count": 9,
   "outputs": [
    {
     "data": {
      "text/plain": "Index(['dispatching_base_num', 'pickup_datetime', 'dropOff_datetime',\n       'PUlocationID', 'DOlocationID', 'SR_Flag', 'Affiliated_base_number',\n       'date'],\n      dtype='object')"
     },
     "execution_count": 9,
     "metadata": {},
     "output_type": "execute_result"
    }
   ],
   "source": [
    "df.columns"
   ],
   "metadata": {
    "collapsed": false,
    "pycharm": {
     "name": "#%%\n"
    }
   }
  },
  {
   "cell_type": "code",
   "execution_count": 10,
   "outputs": [],
   "source": [
    "meta_data = {\n",
    "    'PUlocationID' : 'value_count',\n",
    "    'DOlocationID' : 'value_count',\n",
    "}"
   ],
   "metadata": {
    "collapsed": false,
    "pycharm": {
     "name": "#%%\n"
    }
   }
  },
  {
   "cell_type": "code",
   "execution_count": 10,
   "outputs": [],
   "source": [],
   "metadata": {
    "collapsed": false,
    "pycharm": {
     "name": "#%%\n"
    }
   }
  },
  {
   "cell_type": "code",
   "execution_count": 11,
   "outputs": [],
   "source": [
    "def get_value_counts_as_columns(df_group, feature):\n",
    "    ret_df = pd.DataFrame()\n",
    "    for group in df_group.groups:\n",
    "        sub_df = df_group.get_group(group) # .groupby('date')#\n",
    "        sub_df = sub_df[sub_df[feature].notna()]\n",
    "        sub_df = sub_df[feature].value_counts().reset_index()\n",
    "        sub_df['index'] = sub_df['index'].apply(lambda x: f'{feature}_{int(x)}')\n",
    "        sub_df = sub_df.swapaxes(0, 1)\n",
    "        sub_df.columns = list(sub_df.iloc[0])\n",
    "        sub_df = sub_df.drop('index')\n",
    "        sub_df.index = [group]\n",
    "        ret_df = pd.concat([ret_df, sub_df], axis=0)\n",
    "    return ret_df\n",
    "\n",
    "df_group = df.groupby('date')\n",
    "df_daily = pd.DataFrame()\n",
    "for feature in meta_data:\n",
    "    if feature in list(df.columns):\n",
    "        combine_type = meta_data[feature]\n",
    "        if combine_type == 'value_count':\n",
    "            df_new = get_value_counts_as_columns(df_group, feature)\n",
    "        else:\n",
    "            df_new = df_group[feature]\n",
    "            df_new = getattr(df_new, combine_type)()\n",
    "            df_new.columns = [feature]\n",
    "        df_daily = pd.concat([df_daily, df_new], axis=1)"
   ],
   "metadata": {
    "collapsed": false,
    "pycharm": {
     "name": "#%%\n"
    }
   }
  },
  {
   "cell_type": "code",
   "execution_count": 12,
   "outputs": [
    {
     "data": {
      "text/plain": "           PUlocationID_221 PUlocationID_56 PUlocationID_206 PUlocationID_132  \\\n2022-01-01              150             126              107              101   \n2022-01-02              142             119              129              104   \n2022-01-03              204             163              195               84   \n2022-01-04              222             148              205               60   \n2022-01-05              196             148              203               74   \n\n           PUlocationID_129 PUlocationID_92 PUlocationID_82 PUlocationID_173  \\\n2022-01-01               97              96              81               79   \n2022-01-02              154             137             118               81   \n2022-01-03              190             211             129              106   \n2022-01-04              213             190             121               89   \n2022-01-05              202             214             135               98   \n\n           PUlocationID_115 PUlocationID_7  ... DOlocationID_27  \\\n2022-01-01               77             56  ...               1   \n2022-01-02               63             69  ...             NaN   \n2022-01-03               89            126  ...             NaN   \n2022-01-04              113            108  ...               1   \n2022-01-05               91            118  ...               2   \n\n           DOlocationID_5 DOlocationID_207 DOlocationID_12 DOlocationID_8  \\\n2022-01-01              1                1             NaN            NaN   \n2022-01-02              3                5               1            NaN   \n2022-01-03              9                3               1              3   \n2022-01-04             14              NaN               2              2   \n2022-01-05              8                4               3            NaN   \n\n           DOlocationID_99 DOlocationID_30 DOlocationID_2 DOlocationID_105  \\\n2022-01-01             NaN             NaN            NaN              NaN   \n2022-01-02             NaN             NaN            NaN              NaN   \n2022-01-03             NaN             NaN            NaN              NaN   \n2022-01-04               2             NaN            NaN              NaN   \n2022-01-05               1               1            NaN              NaN   \n\n           DOlocationID_199  \n2022-01-01              NaN  \n2022-01-02              NaN  \n2022-01-03              NaN  \n2022-01-04              NaN  \n2022-01-05              NaN  \n\n[5 rows x 520 columns]",
      "text/html": "<div>\n<style scoped>\n    .dataframe tbody tr th:only-of-type {\n        vertical-align: middle;\n    }\n\n    .dataframe tbody tr th {\n        vertical-align: top;\n    }\n\n    .dataframe thead th {\n        text-align: right;\n    }\n</style>\n<table border=\"1\" class=\"dataframe\">\n  <thead>\n    <tr style=\"text-align: right;\">\n      <th></th>\n      <th>PUlocationID_221</th>\n      <th>PUlocationID_56</th>\n      <th>PUlocationID_206</th>\n      <th>PUlocationID_132</th>\n      <th>PUlocationID_129</th>\n      <th>PUlocationID_92</th>\n      <th>PUlocationID_82</th>\n      <th>PUlocationID_173</th>\n      <th>PUlocationID_115</th>\n      <th>PUlocationID_7</th>\n      <th>...</th>\n      <th>DOlocationID_27</th>\n      <th>DOlocationID_5</th>\n      <th>DOlocationID_207</th>\n      <th>DOlocationID_12</th>\n      <th>DOlocationID_8</th>\n      <th>DOlocationID_99</th>\n      <th>DOlocationID_30</th>\n      <th>DOlocationID_2</th>\n      <th>DOlocationID_105</th>\n      <th>DOlocationID_199</th>\n    </tr>\n  </thead>\n  <tbody>\n    <tr>\n      <th>2022-01-01</th>\n      <td>150</td>\n      <td>126</td>\n      <td>107</td>\n      <td>101</td>\n      <td>97</td>\n      <td>96</td>\n      <td>81</td>\n      <td>79</td>\n      <td>77</td>\n      <td>56</td>\n      <td>...</td>\n      <td>1</td>\n      <td>1</td>\n      <td>1</td>\n      <td>NaN</td>\n      <td>NaN</td>\n      <td>NaN</td>\n      <td>NaN</td>\n      <td>NaN</td>\n      <td>NaN</td>\n      <td>NaN</td>\n    </tr>\n    <tr>\n      <th>2022-01-02</th>\n      <td>142</td>\n      <td>119</td>\n      <td>129</td>\n      <td>104</td>\n      <td>154</td>\n      <td>137</td>\n      <td>118</td>\n      <td>81</td>\n      <td>63</td>\n      <td>69</td>\n      <td>...</td>\n      <td>NaN</td>\n      <td>3</td>\n      <td>5</td>\n      <td>1</td>\n      <td>NaN</td>\n      <td>NaN</td>\n      <td>NaN</td>\n      <td>NaN</td>\n      <td>NaN</td>\n      <td>NaN</td>\n    </tr>\n    <tr>\n      <th>2022-01-03</th>\n      <td>204</td>\n      <td>163</td>\n      <td>195</td>\n      <td>84</td>\n      <td>190</td>\n      <td>211</td>\n      <td>129</td>\n      <td>106</td>\n      <td>89</td>\n      <td>126</td>\n      <td>...</td>\n      <td>NaN</td>\n      <td>9</td>\n      <td>3</td>\n      <td>1</td>\n      <td>3</td>\n      <td>NaN</td>\n      <td>NaN</td>\n      <td>NaN</td>\n      <td>NaN</td>\n      <td>NaN</td>\n    </tr>\n    <tr>\n      <th>2022-01-04</th>\n      <td>222</td>\n      <td>148</td>\n      <td>205</td>\n      <td>60</td>\n      <td>213</td>\n      <td>190</td>\n      <td>121</td>\n      <td>89</td>\n      <td>113</td>\n      <td>108</td>\n      <td>...</td>\n      <td>1</td>\n      <td>14</td>\n      <td>NaN</td>\n      <td>2</td>\n      <td>2</td>\n      <td>2</td>\n      <td>NaN</td>\n      <td>NaN</td>\n      <td>NaN</td>\n      <td>NaN</td>\n    </tr>\n    <tr>\n      <th>2022-01-05</th>\n      <td>196</td>\n      <td>148</td>\n      <td>203</td>\n      <td>74</td>\n      <td>202</td>\n      <td>214</td>\n      <td>135</td>\n      <td>98</td>\n      <td>91</td>\n      <td>118</td>\n      <td>...</td>\n      <td>2</td>\n      <td>8</td>\n      <td>4</td>\n      <td>3</td>\n      <td>NaN</td>\n      <td>1</td>\n      <td>1</td>\n      <td>NaN</td>\n      <td>NaN</td>\n      <td>NaN</td>\n    </tr>\n  </tbody>\n</table>\n<p>5 rows × 520 columns</p>\n</div>"
     },
     "execution_count": 12,
     "metadata": {},
     "output_type": "execute_result"
    }
   ],
   "source": [
    "df_daily.head()"
   ],
   "metadata": {
    "collapsed": false,
    "pycharm": {
     "name": "#%%\n"
    }
   }
  },
  {
   "cell_type": "code",
   "execution_count": 22,
   "outputs": [
    {
     "data": {
      "text/plain": "           PUlocationID_221 PUlocationID_56 PUlocationID_206 PUlocationID_132  \\\n2022-01-01              150             126              107              101   \n2022-01-02              142             119              129              104   \n2022-01-03              204             163              195               84   \n2022-01-04              222             148              205               60   \n2022-01-05              196             148              203               74   \n2022-01-06              190             137              211               65   \n2022-01-07              165             109              111               84   \n2022-01-08              168             145              145               80   \n2022-01-09              121             148              119               67   \n2022-01-10              193             159              190               64   \n2022-01-11              189             170              206               59   \n2022-01-12              209             133              206               57   \n2022-01-13              143             117               53               61   \n2022-01-14              171             154               54               45   \n2022-01-15              163             149              155               65   \n2022-01-16              124             139              117               61   \n2022-01-17              128             118              118               80   \n2022-01-18              194             130              200               63   \n2022-01-19              205             125              195               65   \n2022-01-20              211             153              205               55   \n2022-01-21              236             134              232               72   \n2022-01-22              191             170              164               53   \n2022-01-23              105             136              128               57   \n2022-01-24              202             150              201               56   \n2022-01-25              193             142              217               60   \n2022-01-26              219             158              227               50   \n2022-01-27              253             164              239               70   \n2022-01-28              238             175              194               75   \n2022-01-29                3              48               13                8   \n2022-01-30               89             103               36               90   \n2022-01-31              204             142              217               95   \n\n           PUlocationID_129 PUlocationID_92 PUlocationID_82 PUlocationID_173  \\\n2022-01-01               97              96              81               79   \n2022-01-02              154             137             118               81   \n2022-01-03              190             211             129              106   \n2022-01-04              213             190             121               89   \n2022-01-05              202             214             135               98   \n2022-01-06              216             233             130              100   \n2022-01-07              157             168             102               91   \n2022-01-08              194             172             124              125   \n2022-01-09              140             113             100              119   \n2022-01-10              223             231             139              119   \n2022-01-11              233             217             150              105   \n2022-01-12              208             208             137               96   \n2022-01-13              200             213             130               94   \n2022-01-14              225             197             145              112   \n2022-01-15              199             169             144              146   \n2022-01-16              201              96             103              122   \n2022-01-17              193             183             108              112   \n2022-01-18              214             224             134               96   \n2022-01-19              222             224             124               87   \n2022-01-20              207             190             128              112   \n2022-01-21              245             229             122              126   \n2022-01-22              225             176             140              124   \n2022-01-23              178             120             123              124   \n2022-01-24              213             227             138              107   \n2022-01-25              195             235             138              114   \n2022-01-26              252             234             177              128   \n2022-01-27              234             212             153              122   \n2022-01-28              268             205             174              137   \n2022-01-29               85              49              55               61   \n2022-01-30              145              96             100               93   \n2022-01-31              223             100             139              120   \n\n           PUlocationID_115 PUlocationID_7  ... DOlocationID_27  \\\n2022-01-01               77             56  ...               1   \n2022-01-02               63             69  ...             NaN   \n2022-01-03               89            126  ...             NaN   \n2022-01-04              113            108  ...               1   \n2022-01-05               91            118  ...               2   \n2022-01-06               85            143  ...               3   \n2022-01-07               66             91  ...               1   \n2022-01-08               73            109  ...               1   \n2022-01-09               72             81  ...               1   \n2022-01-10               99            145  ...               1   \n2022-01-11               99            125  ...               1   \n2022-01-12              104            112  ...               1   \n2022-01-13               93            138  ...               5   \n2022-01-14               97            125  ...             NaN   \n2022-01-15               82            105  ...               1   \n2022-01-16               57            114  ...               1   \n2022-01-17               75            103  ...               1   \n2022-01-18               91            124  ...               1   \n2022-01-19              103            143  ...               2   \n2022-01-20              100            132  ...               1   \n2022-01-21              109            164  ...               1   \n2022-01-22               84            138  ...             NaN   \n2022-01-23               63            106  ...             NaN   \n2022-01-24              105            130  ...               2   \n2022-01-25              102            128  ...               2   \n2022-01-26               90            142  ...               1   \n2022-01-27              111            161  ...               1   \n2022-01-28              105            142  ...             NaN   \n2022-01-29                1             40  ...             NaN   \n2022-01-30               51             91  ...             NaN   \n2022-01-31               97            141  ...               2   \n\n           DOlocationID_5 DOlocationID_207 DOlocationID_12 DOlocationID_8  \\\n2022-01-01              1                1             NaN            NaN   \n2022-01-02              3                5               1            NaN   \n2022-01-03              9                3               1              3   \n2022-01-04             14              NaN               2              2   \n2022-01-05              8                4               3            NaN   \n2022-01-06              8                3               1              3   \n2022-01-07              7                3             NaN              1   \n2022-01-08              5                3               1              1   \n2022-01-09              5                2             NaN              4   \n2022-01-10             11                1               1              1   \n2022-01-11              6                3               2              2   \n2022-01-12             12                2             NaN              6   \n2022-01-13              3                5               3              2   \n2022-01-14              5                4               1              1   \n2022-01-15              8                1               1              4   \n2022-01-16              4                2             NaN              1   \n2022-01-17             11              NaN             NaN              3   \n2022-01-18              7                1             NaN              2   \n2022-01-19             13                4               2              7   \n2022-01-20             10                5               1              5   \n2022-01-21              7                6               1              2   \n2022-01-22              2                3             NaN              3   \n2022-01-23              2               11             NaN              2   \n2022-01-24              9                4               3              3   \n2022-01-25             11                6               1              2   \n2022-01-26              9              NaN               3              9   \n2022-01-27              7                3             NaN              3   \n2022-01-28              8                6               1              2   \n2022-01-29            NaN                1             NaN              1   \n2022-01-30              2                4             NaN            NaN   \n2022-01-31             13                2               1              1   \n\n           DOlocationID_99 DOlocationID_30 DOlocationID_2 DOlocationID_105  \\\n2022-01-01             NaN             NaN            NaN              NaN   \n2022-01-02             NaN             NaN            NaN              NaN   \n2022-01-03             NaN             NaN            NaN              NaN   \n2022-01-04               2             NaN            NaN              NaN   \n2022-01-05               1               1            NaN              NaN   \n2022-01-06             NaN             NaN            NaN              NaN   \n2022-01-07               1               2            NaN              NaN   \n2022-01-08               1             NaN            NaN              NaN   \n2022-01-09               3             NaN            NaN              NaN   \n2022-01-10               4               2            NaN              NaN   \n2022-01-11               1             NaN            NaN              NaN   \n2022-01-12             NaN             NaN            NaN              NaN   \n2022-01-13             NaN               1              1              NaN   \n2022-01-14               3             NaN              3                1   \n2022-01-15               3             NaN            NaN              NaN   \n2022-01-16             NaN             NaN            NaN              NaN   \n2022-01-17             NaN               3            NaN              NaN   \n2022-01-18               1               1            NaN              NaN   \n2022-01-19               3             NaN              1              NaN   \n2022-01-20             NaN               2            NaN              NaN   \n2022-01-21               2               1            NaN              NaN   \n2022-01-22               3             NaN            NaN              NaN   \n2022-01-23               1               1              1              NaN   \n2022-01-24               1             NaN            NaN              NaN   \n2022-01-25               2             NaN            NaN              NaN   \n2022-01-26             NaN               1            NaN              NaN   \n2022-01-27               3             NaN            NaN              NaN   \n2022-01-28               2             NaN            NaN              NaN   \n2022-01-29               1             NaN            NaN              NaN   \n2022-01-30               1             NaN            NaN              NaN   \n2022-01-31               1               2            NaN              NaN   \n\n           DOlocationID_199  \n2022-01-01              NaN  \n2022-01-02              NaN  \n2022-01-03              NaN  \n2022-01-04              NaN  \n2022-01-05              NaN  \n2022-01-06              NaN  \n2022-01-07              NaN  \n2022-01-08              NaN  \n2022-01-09              NaN  \n2022-01-10              NaN  \n2022-01-11              NaN  \n2022-01-12              NaN  \n2022-01-13              NaN  \n2022-01-14              NaN  \n2022-01-15              NaN  \n2022-01-16              NaN  \n2022-01-17              NaN  \n2022-01-18              NaN  \n2022-01-19              NaN  \n2022-01-20              NaN  \n2022-01-21              NaN  \n2022-01-22              NaN  \n2022-01-23              NaN  \n2022-01-24              NaN  \n2022-01-25              NaN  \n2022-01-26              NaN  \n2022-01-27              NaN  \n2022-01-28                1  \n2022-01-29              NaN  \n2022-01-30              NaN  \n2022-01-31              NaN  \n\n[31 rows x 520 columns]",
      "text/html": "<div>\n<style scoped>\n    .dataframe tbody tr th:only-of-type {\n        vertical-align: middle;\n    }\n\n    .dataframe tbody tr th {\n        vertical-align: top;\n    }\n\n    .dataframe thead th {\n        text-align: right;\n    }\n</style>\n<table border=\"1\" class=\"dataframe\">\n  <thead>\n    <tr style=\"text-align: right;\">\n      <th></th>\n      <th>PUlocationID_221</th>\n      <th>PUlocationID_56</th>\n      <th>PUlocationID_206</th>\n      <th>PUlocationID_132</th>\n      <th>PUlocationID_129</th>\n      <th>PUlocationID_92</th>\n      <th>PUlocationID_82</th>\n      <th>PUlocationID_173</th>\n      <th>PUlocationID_115</th>\n      <th>PUlocationID_7</th>\n      <th>...</th>\n      <th>DOlocationID_27</th>\n      <th>DOlocationID_5</th>\n      <th>DOlocationID_207</th>\n      <th>DOlocationID_12</th>\n      <th>DOlocationID_8</th>\n      <th>DOlocationID_99</th>\n      <th>DOlocationID_30</th>\n      <th>DOlocationID_2</th>\n      <th>DOlocationID_105</th>\n      <th>DOlocationID_199</th>\n    </tr>\n  </thead>\n  <tbody>\n    <tr>\n      <th>2022-01-01</th>\n      <td>150</td>\n      <td>126</td>\n      <td>107</td>\n      <td>101</td>\n      <td>97</td>\n      <td>96</td>\n      <td>81</td>\n      <td>79</td>\n      <td>77</td>\n      <td>56</td>\n      <td>...</td>\n      <td>1</td>\n      <td>1</td>\n      <td>1</td>\n      <td>NaN</td>\n      <td>NaN</td>\n      <td>NaN</td>\n      <td>NaN</td>\n      <td>NaN</td>\n      <td>NaN</td>\n      <td>NaN</td>\n    </tr>\n    <tr>\n      <th>2022-01-02</th>\n      <td>142</td>\n      <td>119</td>\n      <td>129</td>\n      <td>104</td>\n      <td>154</td>\n      <td>137</td>\n      <td>118</td>\n      <td>81</td>\n      <td>63</td>\n      <td>69</td>\n      <td>...</td>\n      <td>NaN</td>\n      <td>3</td>\n      <td>5</td>\n      <td>1</td>\n      <td>NaN</td>\n      <td>NaN</td>\n      <td>NaN</td>\n      <td>NaN</td>\n      <td>NaN</td>\n      <td>NaN</td>\n    </tr>\n    <tr>\n      <th>2022-01-03</th>\n      <td>204</td>\n      <td>163</td>\n      <td>195</td>\n      <td>84</td>\n      <td>190</td>\n      <td>211</td>\n      <td>129</td>\n      <td>106</td>\n      <td>89</td>\n      <td>126</td>\n      <td>...</td>\n      <td>NaN</td>\n      <td>9</td>\n      <td>3</td>\n      <td>1</td>\n      <td>3</td>\n      <td>NaN</td>\n      <td>NaN</td>\n      <td>NaN</td>\n      <td>NaN</td>\n      <td>NaN</td>\n    </tr>\n    <tr>\n      <th>2022-01-04</th>\n      <td>222</td>\n      <td>148</td>\n      <td>205</td>\n      <td>60</td>\n      <td>213</td>\n      <td>190</td>\n      <td>121</td>\n      <td>89</td>\n      <td>113</td>\n      <td>108</td>\n      <td>...</td>\n      <td>1</td>\n      <td>14</td>\n      <td>NaN</td>\n      <td>2</td>\n      <td>2</td>\n      <td>2</td>\n      <td>NaN</td>\n      <td>NaN</td>\n      <td>NaN</td>\n      <td>NaN</td>\n    </tr>\n    <tr>\n      <th>2022-01-05</th>\n      <td>196</td>\n      <td>148</td>\n      <td>203</td>\n      <td>74</td>\n      <td>202</td>\n      <td>214</td>\n      <td>135</td>\n      <td>98</td>\n      <td>91</td>\n      <td>118</td>\n      <td>...</td>\n      <td>2</td>\n      <td>8</td>\n      <td>4</td>\n      <td>3</td>\n      <td>NaN</td>\n      <td>1</td>\n      <td>1</td>\n      <td>NaN</td>\n      <td>NaN</td>\n      <td>NaN</td>\n    </tr>\n    <tr>\n      <th>2022-01-06</th>\n      <td>190</td>\n      <td>137</td>\n      <td>211</td>\n      <td>65</td>\n      <td>216</td>\n      <td>233</td>\n      <td>130</td>\n      <td>100</td>\n      <td>85</td>\n      <td>143</td>\n      <td>...</td>\n      <td>3</td>\n      <td>8</td>\n      <td>3</td>\n      <td>1</td>\n      <td>3</td>\n      <td>NaN</td>\n      <td>NaN</td>\n      <td>NaN</td>\n      <td>NaN</td>\n      <td>NaN</td>\n    </tr>\n    <tr>\n      <th>2022-01-07</th>\n      <td>165</td>\n      <td>109</td>\n      <td>111</td>\n      <td>84</td>\n      <td>157</td>\n      <td>168</td>\n      <td>102</td>\n      <td>91</td>\n      <td>66</td>\n      <td>91</td>\n      <td>...</td>\n      <td>1</td>\n      <td>7</td>\n      <td>3</td>\n      <td>NaN</td>\n      <td>1</td>\n      <td>1</td>\n      <td>2</td>\n      <td>NaN</td>\n      <td>NaN</td>\n      <td>NaN</td>\n    </tr>\n    <tr>\n      <th>2022-01-08</th>\n      <td>168</td>\n      <td>145</td>\n      <td>145</td>\n      <td>80</td>\n      <td>194</td>\n      <td>172</td>\n      <td>124</td>\n      <td>125</td>\n      <td>73</td>\n      <td>109</td>\n      <td>...</td>\n      <td>1</td>\n      <td>5</td>\n      <td>3</td>\n      <td>1</td>\n      <td>1</td>\n      <td>1</td>\n      <td>NaN</td>\n      <td>NaN</td>\n      <td>NaN</td>\n      <td>NaN</td>\n    </tr>\n    <tr>\n      <th>2022-01-09</th>\n      <td>121</td>\n      <td>148</td>\n      <td>119</td>\n      <td>67</td>\n      <td>140</td>\n      <td>113</td>\n      <td>100</td>\n      <td>119</td>\n      <td>72</td>\n      <td>81</td>\n      <td>...</td>\n      <td>1</td>\n      <td>5</td>\n      <td>2</td>\n      <td>NaN</td>\n      <td>4</td>\n      <td>3</td>\n      <td>NaN</td>\n      <td>NaN</td>\n      <td>NaN</td>\n      <td>NaN</td>\n    </tr>\n    <tr>\n      <th>2022-01-10</th>\n      <td>193</td>\n      <td>159</td>\n      <td>190</td>\n      <td>64</td>\n      <td>223</td>\n      <td>231</td>\n      <td>139</td>\n      <td>119</td>\n      <td>99</td>\n      <td>145</td>\n      <td>...</td>\n      <td>1</td>\n      <td>11</td>\n      <td>1</td>\n      <td>1</td>\n      <td>1</td>\n      <td>4</td>\n      <td>2</td>\n      <td>NaN</td>\n      <td>NaN</td>\n      <td>NaN</td>\n    </tr>\n    <tr>\n      <th>2022-01-11</th>\n      <td>189</td>\n      <td>170</td>\n      <td>206</td>\n      <td>59</td>\n      <td>233</td>\n      <td>217</td>\n      <td>150</td>\n      <td>105</td>\n      <td>99</td>\n      <td>125</td>\n      <td>...</td>\n      <td>1</td>\n      <td>6</td>\n      <td>3</td>\n      <td>2</td>\n      <td>2</td>\n      <td>1</td>\n      <td>NaN</td>\n      <td>NaN</td>\n      <td>NaN</td>\n      <td>NaN</td>\n    </tr>\n    <tr>\n      <th>2022-01-12</th>\n      <td>209</td>\n      <td>133</td>\n      <td>206</td>\n      <td>57</td>\n      <td>208</td>\n      <td>208</td>\n      <td>137</td>\n      <td>96</td>\n      <td>104</td>\n      <td>112</td>\n      <td>...</td>\n      <td>1</td>\n      <td>12</td>\n      <td>2</td>\n      <td>NaN</td>\n      <td>6</td>\n      <td>NaN</td>\n      <td>NaN</td>\n      <td>NaN</td>\n      <td>NaN</td>\n      <td>NaN</td>\n    </tr>\n    <tr>\n      <th>2022-01-13</th>\n      <td>143</td>\n      <td>117</td>\n      <td>53</td>\n      <td>61</td>\n      <td>200</td>\n      <td>213</td>\n      <td>130</td>\n      <td>94</td>\n      <td>93</td>\n      <td>138</td>\n      <td>...</td>\n      <td>5</td>\n      <td>3</td>\n      <td>5</td>\n      <td>3</td>\n      <td>2</td>\n      <td>NaN</td>\n      <td>1</td>\n      <td>1</td>\n      <td>NaN</td>\n      <td>NaN</td>\n    </tr>\n    <tr>\n      <th>2022-01-14</th>\n      <td>171</td>\n      <td>154</td>\n      <td>54</td>\n      <td>45</td>\n      <td>225</td>\n      <td>197</td>\n      <td>145</td>\n      <td>112</td>\n      <td>97</td>\n      <td>125</td>\n      <td>...</td>\n      <td>NaN</td>\n      <td>5</td>\n      <td>4</td>\n      <td>1</td>\n      <td>1</td>\n      <td>3</td>\n      <td>NaN</td>\n      <td>3</td>\n      <td>1</td>\n      <td>NaN</td>\n    </tr>\n    <tr>\n      <th>2022-01-15</th>\n      <td>163</td>\n      <td>149</td>\n      <td>155</td>\n      <td>65</td>\n      <td>199</td>\n      <td>169</td>\n      <td>144</td>\n      <td>146</td>\n      <td>82</td>\n      <td>105</td>\n      <td>...</td>\n      <td>1</td>\n      <td>8</td>\n      <td>1</td>\n      <td>1</td>\n      <td>4</td>\n      <td>3</td>\n      <td>NaN</td>\n      <td>NaN</td>\n      <td>NaN</td>\n      <td>NaN</td>\n    </tr>\n    <tr>\n      <th>2022-01-16</th>\n      <td>124</td>\n      <td>139</td>\n      <td>117</td>\n      <td>61</td>\n      <td>201</td>\n      <td>96</td>\n      <td>103</td>\n      <td>122</td>\n      <td>57</td>\n      <td>114</td>\n      <td>...</td>\n      <td>1</td>\n      <td>4</td>\n      <td>2</td>\n      <td>NaN</td>\n      <td>1</td>\n      <td>NaN</td>\n      <td>NaN</td>\n      <td>NaN</td>\n      <td>NaN</td>\n      <td>NaN</td>\n    </tr>\n    <tr>\n      <th>2022-01-17</th>\n      <td>128</td>\n      <td>118</td>\n      <td>118</td>\n      <td>80</td>\n      <td>193</td>\n      <td>183</td>\n      <td>108</td>\n      <td>112</td>\n      <td>75</td>\n      <td>103</td>\n      <td>...</td>\n      <td>1</td>\n      <td>11</td>\n      <td>NaN</td>\n      <td>NaN</td>\n      <td>3</td>\n      <td>NaN</td>\n      <td>3</td>\n      <td>NaN</td>\n      <td>NaN</td>\n      <td>NaN</td>\n    </tr>\n    <tr>\n      <th>2022-01-18</th>\n      <td>194</td>\n      <td>130</td>\n      <td>200</td>\n      <td>63</td>\n      <td>214</td>\n      <td>224</td>\n      <td>134</td>\n      <td>96</td>\n      <td>91</td>\n      <td>124</td>\n      <td>...</td>\n      <td>1</td>\n      <td>7</td>\n      <td>1</td>\n      <td>NaN</td>\n      <td>2</td>\n      <td>1</td>\n      <td>1</td>\n      <td>NaN</td>\n      <td>NaN</td>\n      <td>NaN</td>\n    </tr>\n    <tr>\n      <th>2022-01-19</th>\n      <td>205</td>\n      <td>125</td>\n      <td>195</td>\n      <td>65</td>\n      <td>222</td>\n      <td>224</td>\n      <td>124</td>\n      <td>87</td>\n      <td>103</td>\n      <td>143</td>\n      <td>...</td>\n      <td>2</td>\n      <td>13</td>\n      <td>4</td>\n      <td>2</td>\n      <td>7</td>\n      <td>3</td>\n      <td>NaN</td>\n      <td>1</td>\n      <td>NaN</td>\n      <td>NaN</td>\n    </tr>\n    <tr>\n      <th>2022-01-20</th>\n      <td>211</td>\n      <td>153</td>\n      <td>205</td>\n      <td>55</td>\n      <td>207</td>\n      <td>190</td>\n      <td>128</td>\n      <td>112</td>\n      <td>100</td>\n      <td>132</td>\n      <td>...</td>\n      <td>1</td>\n      <td>10</td>\n      <td>5</td>\n      <td>1</td>\n      <td>5</td>\n      <td>NaN</td>\n      <td>2</td>\n      <td>NaN</td>\n      <td>NaN</td>\n      <td>NaN</td>\n    </tr>\n    <tr>\n      <th>2022-01-21</th>\n      <td>236</td>\n      <td>134</td>\n      <td>232</td>\n      <td>72</td>\n      <td>245</td>\n      <td>229</td>\n      <td>122</td>\n      <td>126</td>\n      <td>109</td>\n      <td>164</td>\n      <td>...</td>\n      <td>1</td>\n      <td>7</td>\n      <td>6</td>\n      <td>1</td>\n      <td>2</td>\n      <td>2</td>\n      <td>1</td>\n      <td>NaN</td>\n      <td>NaN</td>\n      <td>NaN</td>\n    </tr>\n    <tr>\n      <th>2022-01-22</th>\n      <td>191</td>\n      <td>170</td>\n      <td>164</td>\n      <td>53</td>\n      <td>225</td>\n      <td>176</td>\n      <td>140</td>\n      <td>124</td>\n      <td>84</td>\n      <td>138</td>\n      <td>...</td>\n      <td>NaN</td>\n      <td>2</td>\n      <td>3</td>\n      <td>NaN</td>\n      <td>3</td>\n      <td>3</td>\n      <td>NaN</td>\n      <td>NaN</td>\n      <td>NaN</td>\n      <td>NaN</td>\n    </tr>\n    <tr>\n      <th>2022-01-23</th>\n      <td>105</td>\n      <td>136</td>\n      <td>128</td>\n      <td>57</td>\n      <td>178</td>\n      <td>120</td>\n      <td>123</td>\n      <td>124</td>\n      <td>63</td>\n      <td>106</td>\n      <td>...</td>\n      <td>NaN</td>\n      <td>2</td>\n      <td>11</td>\n      <td>NaN</td>\n      <td>2</td>\n      <td>1</td>\n      <td>1</td>\n      <td>1</td>\n      <td>NaN</td>\n      <td>NaN</td>\n    </tr>\n    <tr>\n      <th>2022-01-24</th>\n      <td>202</td>\n      <td>150</td>\n      <td>201</td>\n      <td>56</td>\n      <td>213</td>\n      <td>227</td>\n      <td>138</td>\n      <td>107</td>\n      <td>105</td>\n      <td>130</td>\n      <td>...</td>\n      <td>2</td>\n      <td>9</td>\n      <td>4</td>\n      <td>3</td>\n      <td>3</td>\n      <td>1</td>\n      <td>NaN</td>\n      <td>NaN</td>\n      <td>NaN</td>\n      <td>NaN</td>\n    </tr>\n    <tr>\n      <th>2022-01-25</th>\n      <td>193</td>\n      <td>142</td>\n      <td>217</td>\n      <td>60</td>\n      <td>195</td>\n      <td>235</td>\n      <td>138</td>\n      <td>114</td>\n      <td>102</td>\n      <td>128</td>\n      <td>...</td>\n      <td>2</td>\n      <td>11</td>\n      <td>6</td>\n      <td>1</td>\n      <td>2</td>\n      <td>2</td>\n      <td>NaN</td>\n      <td>NaN</td>\n      <td>NaN</td>\n      <td>NaN</td>\n    </tr>\n    <tr>\n      <th>2022-01-26</th>\n      <td>219</td>\n      <td>158</td>\n      <td>227</td>\n      <td>50</td>\n      <td>252</td>\n      <td>234</td>\n      <td>177</td>\n      <td>128</td>\n      <td>90</td>\n      <td>142</td>\n      <td>...</td>\n      <td>1</td>\n      <td>9</td>\n      <td>NaN</td>\n      <td>3</td>\n      <td>9</td>\n      <td>NaN</td>\n      <td>1</td>\n      <td>NaN</td>\n      <td>NaN</td>\n      <td>NaN</td>\n    </tr>\n    <tr>\n      <th>2022-01-27</th>\n      <td>253</td>\n      <td>164</td>\n      <td>239</td>\n      <td>70</td>\n      <td>234</td>\n      <td>212</td>\n      <td>153</td>\n      <td>122</td>\n      <td>111</td>\n      <td>161</td>\n      <td>...</td>\n      <td>1</td>\n      <td>7</td>\n      <td>3</td>\n      <td>NaN</td>\n      <td>3</td>\n      <td>3</td>\n      <td>NaN</td>\n      <td>NaN</td>\n      <td>NaN</td>\n      <td>NaN</td>\n    </tr>\n    <tr>\n      <th>2022-01-28</th>\n      <td>238</td>\n      <td>175</td>\n      <td>194</td>\n      <td>75</td>\n      <td>268</td>\n      <td>205</td>\n      <td>174</td>\n      <td>137</td>\n      <td>105</td>\n      <td>142</td>\n      <td>...</td>\n      <td>NaN</td>\n      <td>8</td>\n      <td>6</td>\n      <td>1</td>\n      <td>2</td>\n      <td>2</td>\n      <td>NaN</td>\n      <td>NaN</td>\n      <td>NaN</td>\n      <td>1</td>\n    </tr>\n    <tr>\n      <th>2022-01-29</th>\n      <td>3</td>\n      <td>48</td>\n      <td>13</td>\n      <td>8</td>\n      <td>85</td>\n      <td>49</td>\n      <td>55</td>\n      <td>61</td>\n      <td>1</td>\n      <td>40</td>\n      <td>...</td>\n      <td>NaN</td>\n      <td>NaN</td>\n      <td>1</td>\n      <td>NaN</td>\n      <td>1</td>\n      <td>1</td>\n      <td>NaN</td>\n      <td>NaN</td>\n      <td>NaN</td>\n      <td>NaN</td>\n    </tr>\n    <tr>\n      <th>2022-01-30</th>\n      <td>89</td>\n      <td>103</td>\n      <td>36</td>\n      <td>90</td>\n      <td>145</td>\n      <td>96</td>\n      <td>100</td>\n      <td>93</td>\n      <td>51</td>\n      <td>91</td>\n      <td>...</td>\n      <td>NaN</td>\n      <td>2</td>\n      <td>4</td>\n      <td>NaN</td>\n      <td>NaN</td>\n      <td>1</td>\n      <td>NaN</td>\n      <td>NaN</td>\n      <td>NaN</td>\n      <td>NaN</td>\n    </tr>\n    <tr>\n      <th>2022-01-31</th>\n      <td>204</td>\n      <td>142</td>\n      <td>217</td>\n      <td>95</td>\n      <td>223</td>\n      <td>100</td>\n      <td>139</td>\n      <td>120</td>\n      <td>97</td>\n      <td>141</td>\n      <td>...</td>\n      <td>2</td>\n      <td>13</td>\n      <td>2</td>\n      <td>1</td>\n      <td>1</td>\n      <td>1</td>\n      <td>2</td>\n      <td>NaN</td>\n      <td>NaN</td>\n      <td>NaN</td>\n    </tr>\n  </tbody>\n</table>\n<p>31 rows × 520 columns</p>\n</div>"
     },
     "execution_count": 22,
     "metadata": {},
     "output_type": "execute_result"
    }
   ],
   "source": [
    "df_daily"
   ],
   "metadata": {
    "collapsed": false,
    "pycharm": {
     "name": "#%%\n"
    }
   }
  },
  {
   "cell_type": "code",
   "execution_count": 13,
   "outputs": [],
   "source": [
    "df7 = df.copy()"
   ],
   "metadata": {
    "collapsed": false,
    "pycharm": {
     "name": "#%%\n"
    }
   }
  },
  {
   "cell_type": "code",
   "execution_count": 14,
   "outputs": [],
   "source": [
    "df7 = df7.groupby(['date', 'PUlocationID'])"
   ],
   "metadata": {
    "collapsed": false,
    "pycharm": {
     "name": "#%%\n"
    }
   }
  },
  {
   "cell_type": "code",
   "execution_count": 15,
   "outputs": [
    {
     "data": {
      "text/plain": "pandas.core.groupby.generic.DataFrameGroupBy"
     },
     "execution_count": 15,
     "metadata": {},
     "output_type": "execute_result"
    }
   ],
   "source": [
    "type(df7)"
   ],
   "metadata": {
    "collapsed": false,
    "pycharm": {
     "name": "#%%\n"
    }
   }
  },
  {
   "cell_type": "code",
   "execution_count": 16,
   "outputs": [],
   "source": [
    "df_new = df7['PUlocationID']"
   ],
   "metadata": {
    "collapsed": false,
    "pycharm": {
     "name": "#%%\n"
    }
   }
  },
  {
   "cell_type": "code",
   "execution_count": 17,
   "outputs": [],
   "source": [
    "combine_type = 'count'\n",
    "df_new = getattr(df_new, combine_type)()"
   ],
   "metadata": {
    "collapsed": false,
    "pycharm": {
     "name": "#%%\n"
    }
   }
  },
  {
   "cell_type": "code",
   "execution_count": 18,
   "outputs": [
    {
     "data": {
      "text/plain": "date        PUlocationID\n2022-01-01  1.0             16\n            3.0              1\n            4.0             12\n            5.0              3\n            6.0             11\nName: PUlocationID, dtype: int64"
     },
     "execution_count": 18,
     "metadata": {},
     "output_type": "execute_result"
    }
   ],
   "source": [
    "df_new.head()"
   ],
   "metadata": {
    "collapsed": false,
    "pycharm": {
     "name": "#%%\n"
    }
   }
  },
  {
   "cell_type": "markdown",
   "source": [],
   "metadata": {
    "collapsed": false,
    "pycharm": {
     "name": "#%% md\n"
    }
   }
  },
  {
   "cell_type": "code",
   "execution_count": 19,
   "outputs": [
    {
     "data": {
      "text/plain": "                index  PUlocationID\n0    PUlocationID_129          6151\n1     PUlocationID_92          5569\n2    PUlocationID_221          5421\n3    PUlocationID_206          4992\n4     PUlocationID_56          4312\n..                ...           ...\n254   PUlocationID_99            14\n255   PUlocationID_30             8\n256   PUlocationID_12             7\n257  PUlocationID_110             2\n258  PUlocationID_111             1\n\n[259 rows x 2 columns]",
      "text/html": "<div>\n<style scoped>\n    .dataframe tbody tr th:only-of-type {\n        vertical-align: middle;\n    }\n\n    .dataframe tbody tr th {\n        vertical-align: top;\n    }\n\n    .dataframe thead th {\n        text-align: right;\n    }\n</style>\n<table border=\"1\" class=\"dataframe\">\n  <thead>\n    <tr style=\"text-align: right;\">\n      <th></th>\n      <th>index</th>\n      <th>PUlocationID</th>\n    </tr>\n  </thead>\n  <tbody>\n    <tr>\n      <th>0</th>\n      <td>PUlocationID_129</td>\n      <td>6151</td>\n    </tr>\n    <tr>\n      <th>1</th>\n      <td>PUlocationID_92</td>\n      <td>5569</td>\n    </tr>\n    <tr>\n      <th>2</th>\n      <td>PUlocationID_221</td>\n      <td>5421</td>\n    </tr>\n    <tr>\n      <th>3</th>\n      <td>PUlocationID_206</td>\n      <td>4992</td>\n    </tr>\n    <tr>\n      <th>4</th>\n      <td>PUlocationID_56</td>\n      <td>4312</td>\n    </tr>\n    <tr>\n      <th>...</th>\n      <td>...</td>\n      <td>...</td>\n    </tr>\n    <tr>\n      <th>254</th>\n      <td>PUlocationID_99</td>\n      <td>14</td>\n    </tr>\n    <tr>\n      <th>255</th>\n      <td>PUlocationID_30</td>\n      <td>8</td>\n    </tr>\n    <tr>\n      <th>256</th>\n      <td>PUlocationID_12</td>\n      <td>7</td>\n    </tr>\n    <tr>\n      <th>257</th>\n      <td>PUlocationID_110</td>\n      <td>2</td>\n    </tr>\n    <tr>\n      <th>258</th>\n      <td>PUlocationID_111</td>\n      <td>1</td>\n    </tr>\n  </tbody>\n</table>\n<p>259 rows × 2 columns</p>\n</div>"
     },
     "execution_count": 19,
     "metadata": {},
     "output_type": "execute_result"
    }
   ],
   "source": [
    "feature = 'PUlocationID'\n",
    "date = '2022-01-01'\n",
    "df3 = df[feature].value_counts().reset_index()\n",
    "df3['index'] = df3['index'].apply(lambda x: f'{feature}_{int(x)}')\n",
    "df3"
   ],
   "metadata": {
    "collapsed": false,
    "pycharm": {
     "name": "#%%\n"
    }
   }
  },
  {
   "cell_type": "code",
   "execution_count": 20,
   "outputs": [
    {
     "data": {
      "text/plain": "                           0                1                 2    \\\nindex         PUlocationID_129  PUlocationID_92  PUlocationID_221   \nPUlocationID              6151             5569              5421   \n\n                           3                4                5    \\\nindex         PUlocationID_206  PUlocationID_56  PUlocationID_82   \nPUlocationID              4992             4312             3941   \n\n                           6                 7                 8    \\\nindex         PUlocationID_165  PUlocationID_123  PUlocationID_210   \nPUlocationID              3884              3758              3678   \n\n                         9    ...              249               250  \\\nindex         PUlocationID_7  ...  PUlocationID_34  PUlocationID_253   \nPUlocationID            3650  ...               20                20   \n\n                           251               252             253  \\\nindex         PUlocationID_120  PUlocationID_184  PUlocationID_8   \nPUlocationID                18                15              15   \n\n                          254              255              256  \\\nindex         PUlocationID_99  PUlocationID_30  PUlocationID_12   \nPUlocationID               14                8                7   \n\n                           257               258  \nindex         PUlocationID_110  PUlocationID_111  \nPUlocationID                 2                 1  \n\n[2 rows x 259 columns]",
      "text/html": "<div>\n<style scoped>\n    .dataframe tbody tr th:only-of-type {\n        vertical-align: middle;\n    }\n\n    .dataframe tbody tr th {\n        vertical-align: top;\n    }\n\n    .dataframe thead th {\n        text-align: right;\n    }\n</style>\n<table border=\"1\" class=\"dataframe\">\n  <thead>\n    <tr style=\"text-align: right;\">\n      <th></th>\n      <th>0</th>\n      <th>1</th>\n      <th>2</th>\n      <th>3</th>\n      <th>4</th>\n      <th>5</th>\n      <th>6</th>\n      <th>7</th>\n      <th>8</th>\n      <th>9</th>\n      <th>...</th>\n      <th>249</th>\n      <th>250</th>\n      <th>251</th>\n      <th>252</th>\n      <th>253</th>\n      <th>254</th>\n      <th>255</th>\n      <th>256</th>\n      <th>257</th>\n      <th>258</th>\n    </tr>\n  </thead>\n  <tbody>\n    <tr>\n      <th>index</th>\n      <td>PUlocationID_129</td>\n      <td>PUlocationID_92</td>\n      <td>PUlocationID_221</td>\n      <td>PUlocationID_206</td>\n      <td>PUlocationID_56</td>\n      <td>PUlocationID_82</td>\n      <td>PUlocationID_165</td>\n      <td>PUlocationID_123</td>\n      <td>PUlocationID_210</td>\n      <td>PUlocationID_7</td>\n      <td>...</td>\n      <td>PUlocationID_34</td>\n      <td>PUlocationID_253</td>\n      <td>PUlocationID_120</td>\n      <td>PUlocationID_184</td>\n      <td>PUlocationID_8</td>\n      <td>PUlocationID_99</td>\n      <td>PUlocationID_30</td>\n      <td>PUlocationID_12</td>\n      <td>PUlocationID_110</td>\n      <td>PUlocationID_111</td>\n    </tr>\n    <tr>\n      <th>PUlocationID</th>\n      <td>6151</td>\n      <td>5569</td>\n      <td>5421</td>\n      <td>4992</td>\n      <td>4312</td>\n      <td>3941</td>\n      <td>3884</td>\n      <td>3758</td>\n      <td>3678</td>\n      <td>3650</td>\n      <td>...</td>\n      <td>20</td>\n      <td>20</td>\n      <td>18</td>\n      <td>15</td>\n      <td>15</td>\n      <td>14</td>\n      <td>8</td>\n      <td>7</td>\n      <td>2</td>\n      <td>1</td>\n    </tr>\n  </tbody>\n</table>\n<p>2 rows × 259 columns</p>\n</div>"
     },
     "execution_count": 20,
     "metadata": {},
     "output_type": "execute_result"
    }
   ],
   "source": [
    "df3 = df3.swapaxes(0, 1)\n",
    "df3\n"
   ],
   "metadata": {
    "collapsed": false,
    "pycharm": {
     "name": "#%%\n"
    }
   }
  },
  {
   "cell_type": "code",
   "execution_count": 21,
   "outputs": [
    {
     "data": {
      "text/plain": "           PUlocationID_129 PUlocationID_92 PUlocationID_221 PUlocationID_206  \\\n2022-01-01             6151            5569             5421             4992   \n\n           PUlocationID_56 PUlocationID_82 PUlocationID_165 PUlocationID_123  \\\n2022-01-01            4312            3941             3884             3758   \n\n           PUlocationID_210 PUlocationID_7  ... PUlocationID_34  \\\n2022-01-01             3678           3650  ...              20   \n\n           PUlocationID_253 PUlocationID_120 PUlocationID_184 PUlocationID_8  \\\n2022-01-01               20               18               15             15   \n\n           PUlocationID_99 PUlocationID_30 PUlocationID_12 PUlocationID_110  \\\n2022-01-01              14               8               7                2   \n\n           PUlocationID_111  \n2022-01-01                1  \n\n[1 rows x 259 columns]",
      "text/html": "<div>\n<style scoped>\n    .dataframe tbody tr th:only-of-type {\n        vertical-align: middle;\n    }\n\n    .dataframe tbody tr th {\n        vertical-align: top;\n    }\n\n    .dataframe thead th {\n        text-align: right;\n    }\n</style>\n<table border=\"1\" class=\"dataframe\">\n  <thead>\n    <tr style=\"text-align: right;\">\n      <th></th>\n      <th>PUlocationID_129</th>\n      <th>PUlocationID_92</th>\n      <th>PUlocationID_221</th>\n      <th>PUlocationID_206</th>\n      <th>PUlocationID_56</th>\n      <th>PUlocationID_82</th>\n      <th>PUlocationID_165</th>\n      <th>PUlocationID_123</th>\n      <th>PUlocationID_210</th>\n      <th>PUlocationID_7</th>\n      <th>...</th>\n      <th>PUlocationID_34</th>\n      <th>PUlocationID_253</th>\n      <th>PUlocationID_120</th>\n      <th>PUlocationID_184</th>\n      <th>PUlocationID_8</th>\n      <th>PUlocationID_99</th>\n      <th>PUlocationID_30</th>\n      <th>PUlocationID_12</th>\n      <th>PUlocationID_110</th>\n      <th>PUlocationID_111</th>\n    </tr>\n  </thead>\n  <tbody>\n    <tr>\n      <th>2022-01-01</th>\n      <td>6151</td>\n      <td>5569</td>\n      <td>5421</td>\n      <td>4992</td>\n      <td>4312</td>\n      <td>3941</td>\n      <td>3884</td>\n      <td>3758</td>\n      <td>3678</td>\n      <td>3650</td>\n      <td>...</td>\n      <td>20</td>\n      <td>20</td>\n      <td>18</td>\n      <td>15</td>\n      <td>15</td>\n      <td>14</td>\n      <td>8</td>\n      <td>7</td>\n      <td>2</td>\n      <td>1</td>\n    </tr>\n  </tbody>\n</table>\n<p>1 rows × 259 columns</p>\n</div>"
     },
     "execution_count": 21,
     "metadata": {},
     "output_type": "execute_result"
    }
   ],
   "source": [
    "df3.columns = list(df3.iloc[0])\n",
    "df3 = df3.drop('index')\n",
    "df3.index = [date]\n",
    "df3"
   ],
   "metadata": {
    "collapsed": false,
    "pycharm": {
     "name": "#%%\n"
    }
   }
  }
 ],
 "metadata": {
  "kernelspec": {
   "display_name": "Python 3",
   "language": "python",
   "name": "python3"
  },
  "language_info": {
   "codemirror_mode": {
    "name": "ipython",
    "version": 2
   },
   "file_extension": ".py",
   "mimetype": "text/x-python",
   "name": "python",
   "nbconvert_exporter": "python",
   "pygments_lexer": "ipython2",
   "version": "2.7.6"
  }
 },
 "nbformat": 4,
 "nbformat_minor": 0
}